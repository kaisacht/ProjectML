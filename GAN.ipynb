{
 "cells": [
  {
   "cell_type": "code",
   "execution_count": 1,
   "metadata": {},
   "outputs": [],
   "source": [
    "import torch\n",
    "from torch import nn\n",
    "import pandas as pd\n",
    "import numpy as np\n",
    "import math\n",
    "import matplotlib.pyplot as plt\n",
    "from keras.preprocessing.text import Tokenizer\n",
    "from tensorflow.keras.preprocessing.sequence import pad_sequences\n",
    "import random\n"
   ]
  },
  {
   "cell_type": "code",
   "execution_count": 2,
   "metadata": {},
   "outputs": [],
   "source": [
    "data_source = pd.read_csv('data_source.csv')\n",
    "#data_source = data_source[data_source['label']=='153 - Input Data Manipulation']\n",
    "data_target  = pd.read_csv('data_target.csv')\n",
    "data_target = data_target.sample(frac=1, random_state=42)\n",
    "#data_target = data_target[data_target['label']=='153 - Input Data Manipulation']\n",
    "X_source = data_source['text'].str.replace('/',' ')\n",
    "y_source = data_source['label']\n",
    "X_target  = data_target ['text'].str.replace('/','')\n",
    "y_target  = data_target ['label']\n",
    "rlist =['194 - Fake the Source of Data', '66 - SQL Injection',\n",
    "       '34 - HTTP Response Splitting', '126 - Path Traversal',\n",
    "       '000 - Normal', '272 - Protocol Manipulation',\n",
    "       '310 - Scanning for Vulnerable Software', '242 - Code Injection',\n",
    "       '153 - Input Data Manipulation']\n",
    "mapping = {l: i+1 for i, l in enumerate(rlist)}\n",
    "y_source = [mapping[s] for s in y_source] \n",
    "y_target  = [mapping[r] for r in y_target ]\n",
    "y_source = np.array(y_source)\n",
    "y_target  = np.array(y_target )\n"
   ]
  },
  {
   "cell_type": "code",
   "execution_count": 3,
   "metadata": {},
   "outputs": [
    {
     "data": {
      "text/plain": [
       "{'194 - Fake the Source of Data': 1,\n",
       " '66 - SQL Injection': 2,\n",
       " '34 - HTTP Response Splitting': 3,\n",
       " '126 - Path Traversal': 4,\n",
       " '000 - Normal': 5,\n",
       " '272 - Protocol Manipulation': 6,\n",
       " '310 - Scanning for Vulnerable Software': 7,\n",
       " '242 - Code Injection': 8,\n",
       " '153 - Input Data Manipulation': 9}"
      ]
     },
     "execution_count": 3,
     "metadata": {},
     "output_type": "execute_result"
    }
   ],
   "source": [
    "mapping"
   ]
  },
  {
   "cell_type": "code",
   "execution_count": 4,
   "metadata": {},
   "outputs": [],
   "source": [
    "y_target = np.where(np.logical_or(y_target == 8, y_target == 9), 0, 1)"
   ]
  },
  {
   "cell_type": "code",
   "execution_count": 5,
   "metadata": {},
   "outputs": [],
   "source": [
    "from sklearn.feature_extraction.text import CountVectorizer, TfidfVectorizer\n",
    "import json\n",
    "\n",
    "\n",
    "class Vectorizer:\n",
    "    def __init__(self, method='BOW', ngram_range=(1, 1), max_features=300, emb_fname='', word_index_fname=''):\n",
    "        self.method = method\n",
    "        if self.method == 'BOW':\n",
    "            self.vectorizer = CountVectorizer(analyzer='word', input='content', ngram_range=ngram_range, max_features=max_features)\n",
    "        elif self.method == 'TFIDF':\n",
    "            self.vectorizer = TfidfVectorizer(analyzer='word', input='content', max_features=max_features)\n",
    "        elif self.method == 'Word2Vec':\n",
    "            self.max_features = max_features\n",
    "            self.emb_fname = emb_fname\n",
    "            self.word_index_fname = word_index_fname\n",
    "        else:\n",
    "            raise ValueError('Feature extraction method does not exist.')\n",
    "\n",
    "    def feature_extraction(self, X_train, X_test):\n",
    "        train_data = self.vectorizer.fit_transform(X_train).toarray()\n",
    "        test_data = self.vectorizer.transform(X_test).toarray()\n",
    "        return train_data, test_data\n",
    "\n",
    "    def get_word_index(self):\n",
    "        word2id = json.load(open(self.word_index_fname, 'r'))\n",
    "        return word2id\n",
    "\n",
    "    def get_embedding_matrix(self):\n",
    "        np.random.seed(0)\n",
    "        word2id = self.get_word_index()\n",
    "        embedding_matrix = np.random.uniform(-0.25, 0.25, [len(word2id) + 1, self.max_features])\n",
    "        with open(self.emb_fname, 'r', encoding='utf-8') as f:\n",
    "            for line in f:\n",
    "                content = line.split(' ')\n",
    "                if content[0] in word2id:\n",
    "                    embedding_matrix[word2id[content[0]]] = np.array(list(map(float, content[1:])))\n",
    "        return embedding_matrix"
   ]
  },
  {
   "cell_type": "code",
   "execution_count": 6,
   "metadata": {},
   "outputs": [],
   "source": [
    "# vectorizer = Vectorizer('TFIDF')\n",
    "# X_train, X_test = vectorizer.feature_extraction(X_source, X_target)"
   ]
  },
  {
   "cell_type": "code",
   "execution_count": 7,
   "metadata": {},
   "outputs": [],
   "source": [
    "from gensim.models import Word2Vec\n",
    "sentences = [sentence.split() for sentence in X_source]\n",
    "w2v_model = Word2Vec(sentences, window=5, min_count=5, workers=4)"
   ]
  },
  {
   "cell_type": "code",
   "execution_count": 8,
   "metadata": {},
   "outputs": [],
   "source": [
    "def vectorize(sentence):\n",
    "    words = sentence.split()\n",
    "    words_vecs = [w2v_model.wv[word] for word in words if word in w2v_model.wv]\n",
    "    if len(words_vecs) == 0:\n",
    "        return np.zeros(100)\n",
    "    words_vecs = np.array(words_vecs)\n",
    "    return words_vecs.mean(axis=0)\n",
    "\n",
    "X_train = np.array([vectorize(sentence) for sentence in X_source])\n",
    "X_test = np.array([vectorize(sentence) for sentence in X_target])"
   ]
  },
  {
   "cell_type": "code",
   "execution_count": 9,
   "metadata": {},
   "outputs": [],
   "source": [
    "device = \"\"\n",
    "if torch.cuda.is_available():\n",
    "    device = torch.device(\"cuda\")\n",
    "else:\n",
    "    device = torch.device(\"cpu\")"
   ]
  },
  {
   "cell_type": "code",
   "execution_count": 10,
   "metadata": {},
   "outputs": [],
   "source": [
    "input_layer = X_train.shape[1]"
   ]
  },
  {
   "cell_type": "code",
   "execution_count": 11,
   "metadata": {},
   "outputs": [],
   "source": [
    "class Discriminator(nn.Module):\n",
    "    def __init__(self):\n",
    "        super().__init__()\n",
    "        self.model = nn.Sequential(\n",
    "            nn.Linear(input_layer, 1024),\n",
    "            nn.ReLU(),\n",
    "            nn.Dropout(0.3),\n",
    "            nn.Linear(1024, 512),\n",
    "            nn.ReLU(),\n",
    "            nn.Dropout(0.3),\n",
    "            nn.Linear(512, 256),\n",
    "            nn.ReLU(),\n",
    "            nn.Dropout(0.3),\n",
    "            nn.Linear(256, 1),\n",
    "            nn.Sigmoid(),\n",
    "        )\n",
    "\n",
    "    def forward(self, x):\n",
    "        x = x.view(x.size(0), input_layer)\n",
    "        output = self.model(x)\n",
    "        return output"
   ]
  },
  {
   "cell_type": "code",
   "execution_count": 12,
   "metadata": {},
   "outputs": [],
   "source": [
    "discriminator = Discriminator().to(device=device)"
   ]
  },
  {
   "cell_type": "code",
   "execution_count": 13,
   "metadata": {},
   "outputs": [],
   "source": [
    "class Generator(nn.Module):\n",
    "    def __init__(self):\n",
    "        super().__init__()\n",
    "        self.model = nn.Sequential(\n",
    "            nn.Linear(input_layer, 256),\n",
    "            nn.ReLU(),\n",
    "            nn.Linear(256, 512),\n",
    "            nn.ReLU(),\n",
    "            nn.Linear(512, 1024),\n",
    "            nn.ReLU(),\n",
    "            nn.Linear(1024, input_layer),\n",
    "            nn.Tanh(),\n",
    "        )\n",
    "\n",
    "    def forward(self, x):\n",
    "        output = self.model(x)\n",
    "        output = output.view(x.size(0), input_layer)\n",
    "        return output\n",
    "\n",
    "generator = Generator().to(device=device)"
   ]
  },
  {
   "cell_type": "code",
   "execution_count": 14,
   "metadata": {},
   "outputs": [],
   "source": [
    "lr = 0.00001\n",
    "num_epochs = 1000\n",
    "batch_size= 32\n",
    "loss_function = nn.BCELoss()\n",
    "optimizer_discriminator = torch.optim.Adam(discriminator.parameters(), lr=lr)\n",
    "optimizer_generator = torch.optim.Adam(generator.parameters(), lr=lr)"
   ]
  },
  {
   "cell_type": "code",
   "execution_count": 15,
   "metadata": {},
   "outputs": [],
   "source": [
    "X_source = torch.from_numpy(X_train).to(device=device, dtype=torch.float32)\n",
    "X_target = torch.from_numpy(X_test).to(device=device, dtype=torch.float32)"
   ]
  },
  {
   "cell_type": "code",
   "execution_count": 16,
   "metadata": {},
   "outputs": [
    {
     "name": "stdout",
     "output_type": "stream",
     "text": [
      "Epoch: 0.0 Loss D.: 0.694198727607727\n",
      "Epoch: 0.0 Loss G.: 0.6680736541748047\n",
      "Epoch: 1.0 Loss D.: 0.6211839914321899\n",
      "Epoch: 1.0 Loss G.: 0.6581594347953796\n",
      "Epoch: 2.0 Loss D.: 0.6264723539352417\n",
      "Epoch: 2.0 Loss G.: 0.5679495930671692\n",
      "Epoch: 3.0 Loss D.: 0.5814388990402222\n",
      "Epoch: 3.0 Loss G.: 0.7234567403793335\n",
      "Epoch: 4.0 Loss D.: 0.6028750538825989\n",
      "Epoch: 4.0 Loss G.: 0.7514563202857971\n",
      "Epoch: 5.0 Loss D.: 0.5338872671127319\n",
      "Epoch: 5.0 Loss G.: 0.7741644382476807\n",
      "Epoch: 6.0 Loss D.: 0.4924606382846832\n",
      "Epoch: 6.0 Loss G.: 0.785311222076416\n",
      "Epoch: 7.0 Loss D.: 0.5157299637794495\n",
      "Epoch: 7.0 Loss G.: 0.8946226835250854\n",
      "Epoch: 8.0 Loss D.: 0.4489753246307373\n",
      "Epoch: 8.0 Loss G.: 1.0600844621658325\n",
      "Epoch: 9.0 Loss D.: 0.4402088224887848\n",
      "Epoch: 9.0 Loss G.: 0.9925678968429565\n"
     ]
    }
   ],
   "source": [
    "for epoch in range(num_epochs):\n",
    "    idx = np.random.randint(0, X_source.shape[0], batch_size)\n",
    "    real_samples  = X_source[idx]\n",
    "    real_samples_labels = torch.ones((batch_size,1)).to(device=device)\n",
    "    latent_space_samples = torch.rand((batch_size,input_layer)).to( device=device)\n",
    "    \n",
    "    generated_samples = generator(latent_space_samples)\n",
    "    generated_samples_labels = torch.zeros((batch_size, 1)).to(\n",
    "            device=device\n",
    "        )\n",
    "    all_samples = torch.cat((real_samples, generated_samples))\n",
    "    all_samples_labels = torch.cat(\n",
    "            (real_samples_labels, generated_samples_labels)\n",
    "        )\n",
    "\n",
    "        # Training the discriminator\n",
    "    discriminator.zero_grad()\n",
    "    output_discriminator = discriminator(all_samples)\n",
    "    loss_discriminator = loss_function(\n",
    "            output_discriminator, all_samples_labels\n",
    "        )\n",
    "    loss_discriminator.backward()\n",
    "    optimizer_discriminator.step()\n",
    "\n",
    "        # Data for training the generator\n",
    "    latent_space_samples = torch.rand((batch_size,input_layer)).to(device=device)\n",
    "\n",
    "        # Training the generator\n",
    "    generator.zero_grad()\n",
    "    generated_samples = generator(latent_space_samples)\n",
    "    output_discriminator_generated = discriminator(generated_samples)\n",
    "    loss_generator = loss_function(\n",
    "            output_discriminator_generated, real_samples_labels\n",
    "        )\n",
    "    loss_generator.backward()\n",
    "    optimizer_generator.step()\n",
    "    if(epoch%100==0):\n",
    "        print(f\"Epoch: {epoch/100} Loss D.: {loss_discriminator}\")\n",
    "        print(f\"Epoch: {epoch/100} Loss G.: {loss_generator}\")\n",
    " "
   ]
  },
  {
   "cell_type": "code",
   "execution_count": 17,
   "metadata": {},
   "outputs": [],
   "source": [
    "predicted_labels = discriminator(X_target)\n",
    "new_tensor = torch.where(predicted_labels >= 0.5, torch.tensor(1), torch.tensor(0))"
   ]
  },
  {
   "cell_type": "code",
   "execution_count": 18,
   "metadata": {},
   "outputs": [],
   "source": [
    "new_label = new_tensor.numpy()"
   ]
  },
  {
   "cell_type": "code",
   "execution_count": 19,
   "metadata": {},
   "outputs": [],
   "source": [
    "from sklearn.metrics import accuracy_score"
   ]
  },
  {
   "cell_type": "code",
   "execution_count": 20,
   "metadata": {},
   "outputs": [
    {
     "data": {
      "text/plain": [
       "0.8650885391047712"
      ]
     },
     "execution_count": 20,
     "metadata": {},
     "output_type": "execute_result"
    }
   ],
   "source": [
    "accuracy = accuracy_score(y_target, new_label)\n",
    "accuracy"
   ]
  },
  {
   "cell_type": "code",
   "execution_count": 21,
   "metadata": {},
   "outputs": [],
   "source": [
    "from sklearn.metrics import classification_report, f1_score, accuracy_score, confusion_matrix"
   ]
  },
  {
   "cell_type": "code",
   "execution_count": 22,
   "metadata": {},
   "outputs": [],
   "source": [
    "cm = confusion_matrix(y_target, new_label)"
   ]
  },
  {
   "cell_type": "code",
   "execution_count": 23,
   "metadata": {},
   "outputs": [],
   "source": [
    "import seaborn as sns\n",
    "import matplotlib.pyplot as plt"
   ]
  },
  {
   "cell_type": "code",
   "execution_count": 24,
   "metadata": {},
   "outputs": [
    {
     "data": {
      "image/png": "[encoded data removed]",
      "text/plain": [
       "<Figure size 800x600 with 2 Axes>"
      ]
     },
     "metadata": {},
     "output_type": "display_data"
    }
   ],
   "source": [
    "plt.figure(figsize=(8,6))\n",
    "sns.heatmap(cm,annot=True,fmt='g',xticklabels = [0,1],yticklabels= [0,1])\n",
    "plt.ylabel('Prediction',fontsize=13)\n",
    "plt.xlabel('Actul',fontsize=13)\n",
    "plt.title('Confusion Matrix',fontsize=17)\n",
    "plt.show()"
   ]
  }
 ],
 "metadata": {
  "kernelspec": {
   "display_name": "Python 3",
   "language": "python",
   "name": "python3"
  },
  "language_info": {
   "codemirror_mode": {
    "name": "ipython",
    "version": 3
   },
   "file_extension": ".py",
   "mimetype": "text/x-python",
   "name": "python",
   "nbconvert_exporter": "python",
   "pygments_lexer": "ipython3",
   "version": "3.9.11"
  },
  "orig_nbformat": 4
 },
 "nbformat": 4,
 "nbformat_minor": 2
}
