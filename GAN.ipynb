{
 "cells": [
  {
   "attachments": {},
   "cell_type": "markdown",
   "metadata": {},
   "source": [
    "### Import Thư Viện"
   ]
  },
  {
   "cell_type": "code",
   "execution_count": 1,
   "metadata": {},
   "outputs": [
    {
     "name": "stderr",
     "output_type": "stream",
     "text": [
      "c:\\Users\\Admin\\AppData\\Local\\Programs\\Python\\Python39\\lib\\site-packages\\tqdm\\auto.py:21: TqdmWarning: IProgress not found. Please update jupyter and ipywidgets. See https://ipywidgets.readthedocs.io/en/stable/user_install.html\n",
      "  from .autonotebook import tqdm as notebook_tqdm\n"
     ]
    }
   ],
   "source": [
    "import torch\n",
    "from torch import nn\n",
    "import pandas as pd\n",
    "import numpy as np\n",
    "import math\n",
    "import matplotlib.pyplot as plt\n",
    "from keras.preprocessing.text import Tokenizer\n",
    "from tensorflow.keras.preprocessing.sequence import pad_sequences\n",
    "import random\n",
    "from transformers import BertTokenizer, BertModel\n",
    "from sklearn.model_selection import train_test_split\n",
    "import multiprocessing\n",
    "from sklearn.feature_extraction.text import CountVectorizer, TfidfVectorizer\n",
    "import json\n",
    "from sklearn.metrics import classification_report, f1_score, accuracy_score, confusion_matrix\n",
    "from gensim.models import Word2Vec\n",
    "from transformers import AutoTokenizer, AutoModel\n",
    "from sklearn.metrics import accuracy_score"
   ]
  },
  {
   "attachments": {},
   "cell_type": "markdown",
   "metadata": {},
   "source": [
    "### Load dataset"
   ]
  },
  {
   "cell_type": "code",
   "execution_count": 2,
   "metadata": {},
   "outputs": [],
   "source": [
    "data_source = pd.read_csv('data_source.csv')\n",
    "#data_source = data_source[data_source['label']=='153 - Input Data Manipulation']\n",
    "#data_source, _ = train_test_split(data_source, test_size=0.75, random_state=42)\n",
    "data_target  = pd.read_csv('data_target.csv')\n",
    "#data_target, _ = train_test_split(data_target, test_size=0.9, random_state=42)\n",
    "\n",
    "data_target = data_target.sample(frac=1, random_state=42)\n",
    "#data_target = data_target[data_target['label']=='153 - Input Data Manipulation']\n",
    "X_source = data_source['text'].str.replace('/',' ')\n",
    "y_source = data_source['label']\n",
    "X_target  = data_target ['text'].str.replace('/','')\n",
    "y_target  = data_target ['label']\n",
    "rlist =['194 - Fake the Source of Data', '66 - SQL Injection',\n",
    "       '34 - HTTP Response Splitting', '126 - Path Traversal',\n",
    "       '000 - Normal', '272 - Protocol Manipulation',\n",
    "       '310 - Scanning for Vulnerable Software', '242 - Code Injection',\n",
    "       '153 - Input Data Manipulation']\n",
    "mapping = {l: i+1 for i, l in enumerate(rlist)}\n",
    "y_source = [mapping[s] for s in y_source] \n",
    "y_target  = [mapping[r] for r in y_target ]\n",
    "y_source = np.array(y_source)\n",
    "y_target  = np.array(y_target )\n"
   ]
  },
  {
   "attachments": {},
   "cell_type": "markdown",
   "metadata": {},
   "source": [
    "### Trích xuất đặc trưng bẳng BERT"
   ]
  },
  {
   "cell_type": "code",
   "execution_count": 4,
   "metadata": {},
   "outputs": [],
   "source": [
    "# model_name = 'jackaduma/SecBERT'\n",
    "# tokenizer = AutoTokenizer.from_pretrained(model_name)\n",
    "# model = AutoModel.from_pretrained(model_name)\n",
    "\n",
    "# X_source = list(X_source)\n",
    "# X_target = list(X_target)\n",
    "# input_texts_source = X_source\n",
    "# input_text_target = X_target\n",
    "\n",
    "# X_train = []\n",
    "# X_test = []\n",
    "\n",
    "# for i , text in enumerate(input_texts_source):\n",
    "\n",
    "#     tokens = tokenizer.tokenize(text)\n",
    "\n",
    "#     token_ids = tokenizer.convert_tokens_to_ids(tokens)\n",
    "\n",
    "#     input_tensor = torch.tensor([token_ids])\n",
    "#     with torch.no_grad():\n",
    "#         outputs = model(input_tensor)\n",
    "\n",
    "#     last_hidden_state = outputs.last_hidden_state\n",
    "\n",
    "#     first_token_features = last_hidden_state[0, 0, :]\n",
    "\n",
    "#     X_train.append(first_token_features)\n",
    "#     if i%1000==0 :\n",
    "#         print(i/len(X_source))\n",
    "\n",
    "# for j , text in enumerate(input_text_target):\n",
    "\n",
    "#     tokens = tokenizer.tokenize(text)\n",
    "\n",
    "#     token_ids = tokenizer.convert_tokens_to_ids(tokens)\n",
    "\n",
    "#     input_tensor = torch.tensor([token_ids])\n",
    "#     with torch.no_grad():\n",
    "#         outputs = model(input_tensor)\n",
    "\n",
    "#     last_hidden_state = outputs.last_hidden_state\n",
    "\n",
    "#     first_token_features = last_hidden_state[0, 0, :]\n",
    "\n",
    "#     X_test.append(first_token_features)\n",
    "#     if j%1000==0 :\n",
    "#         print(j/len(X_target))\n",
    "# X_test = torch.stack(X_test)\n",
    "# X_train = torch.stack(X_train)\n"
   ]
  },
  {
   "attachments": {},
   "cell_type": "markdown",
   "metadata": {},
   "source": [
    "### Convert Dữ liệu chưa biết có nhãn là 0, đã biết nhãn là 1"
   ]
  },
  {
   "cell_type": "code",
   "execution_count": 4,
   "metadata": {},
   "outputs": [],
   "source": [
    "y_target = np.where(np.logical_or(y_target == 1, y_target == 3), 0, 1)"
   ]
  },
  {
   "attachments": {},
   "cell_type": "markdown",
   "metadata": {},
   "source": [
    "### Feature Extraction"
   ]
  },
  {
   "cell_type": "code",
   "execution_count": 5,
   "metadata": {},
   "outputs": [],
   "source": [
    "class Vectorizer:\n",
    "    def __init__(self, method='BOW', ngram_range=(1, 1), max_features=300, emb_fname='', word_index_fname=''):\n",
    "        self.method = method\n",
    "        if self.method == 'BOW':\n",
    "            self.vectorizer = CountVectorizer(analyzer='word', input='content', ngram_range=ngram_range, max_features=max_features)\n",
    "        elif self.method == 'TFIDF':\n",
    "            self.vectorizer = TfidfVectorizer(analyzer='word', input='content', max_features=max_features)\n",
    "        elif self.method == 'Word2Vec':\n",
    "            self.max_features = max_features\n",
    "            self.emb_fname = emb_fname\n",
    "            self.word_index_fname = word_index_fname\n",
    "        else:\n",
    "            raise ValueError('Feature extraction method does not exist.')\n",
    "\n",
    "    def feature_extraction(self, X_train, X_test):\n",
    "        train_data = self.vectorizer.fit_transform(X_train).toarray()\n",
    "        test_data = self.vectorizer.transform(X_test).toarray()\n",
    "        return train_data, test_data\n",
    "\n",
    "    def get_word_index(self):\n",
    "        word2id = json.load(open(self.word_index_fname, 'r'))\n",
    "        return word2id\n",
    "\n",
    "    def get_embedding_matrix(self):\n",
    "        np.random.seed(0)\n",
    "        word2id = self.get_word_index()\n",
    "        embedding_matrix = np.random.uniform(-0.25, 0.25, [len(word2id) + 1, self.max_features])\n",
    "        with open(self.emb_fname, 'r', encoding='utf-8') as f:\n",
    "            for line in f:\n",
    "                content = line.split(' ')\n",
    "                if content[0] in word2id:\n",
    "                    embedding_matrix[word2id[content[0]]] = np.array(list(map(float, content[1:])))\n",
    "        return embedding_matrix"
   ]
  },
  {
   "attachments": {},
   "cell_type": "markdown",
   "metadata": {},
   "source": [
    "### TFTDF"
   ]
  },
  {
   "cell_type": "code",
   "execution_count": 9,
   "metadata": {},
   "outputs": [],
   "source": [
    "# vectorizer = Vectorizer('TFIDF')\n",
    "# X_train, X_test = vectorizer.feature_extraction(X_source, X_target)"
   ]
  },
  {
   "attachments": {},
   "cell_type": "markdown",
   "metadata": {},
   "source": [
    "### WORD2VEC"
   ]
  },
  {
   "cell_type": "code",
   "execution_count": 6,
   "metadata": {},
   "outputs": [],
   "source": [
    "\n",
    "sentences = [sentence.split() for sentence in X_source]\n",
    "w2v_model = Word2Vec(sentences, window=5, min_count=5, workers=4)\n",
    "\n",
    "def vectorize(sentence):\n",
    "    words = sentence.split()\n",
    "    words_vecs = [w2v_model.wv[word] for word in words if word in w2v_model.wv]\n",
    "    if len(words_vecs) == 0:\n",
    "        return np.zeros(100)\n",
    "    words_vecs = np.array(words_vecs)\n",
    "    return words_vecs.mean(axis=0)\n",
    "\n",
    "X_train = np.array([vectorize(sentence) for sentence in X_source])\n",
    "X_test = np.array([vectorize(sentence) for sentence in X_target])"
   ]
  },
  {
   "attachments": {},
   "cell_type": "markdown",
   "metadata": {},
   "source": [
    "### Sử dụng GPU"
   ]
  },
  {
   "cell_type": "code",
   "execution_count": 12,
   "metadata": {},
   "outputs": [],
   "source": [
    "device = \"\"\n",
    "if torch.cuda.is_available():\n",
    "    device = torch.device(\"cuda\")\n",
    "else:\n",
    "    device = torch.device(\"cpu\")"
   ]
  },
  {
   "attachments": {},
   "cell_type": "markdown",
   "metadata": {},
   "source": [
    "### Set các giá trị đầu vào"
   ]
  },
  {
   "cell_type": "code",
   "execution_count": 13,
   "metadata": {},
   "outputs": [],
   "source": [
    "input_layer = X_train.shape[1]\n",
    "input_size = input_layer\n",
    "hidden_size =64"
   ]
  },
  {
   "attachments": {},
   "cell_type": "markdown",
   "metadata": {},
   "source": [
    "### Hàm Discriminator"
   ]
  },
  {
   "cell_type": "code",
   "execution_count": 14,
   "metadata": {},
   "outputs": [],
   "source": [
    "class Discriminator(nn.Module):\n",
    "    def __init__(self):\n",
    "        super().__init__()\n",
    "        self.model = nn.Sequential(\n",
    "            nn.Linear(input_layer, 1024),\n",
    "            # nn.ReLU(),\n",
    "            # nn.Dropout(0.3),\n",
    "            # nn.Linear(2048, 1024),\n",
    "            nn.ReLU(),\n",
    "            nn.Dropout(0.3),\n",
    "            nn.Linear(1024, 512),\n",
    "            nn.ReLU(),\n",
    "            nn.Dropout(0.3),\n",
    "            nn.Linear(512, 256),\n",
    "            nn.ReLU(),\n",
    "            nn.Dropout(0.3),\n",
    "            nn.Linear(256, 1),\n",
    "            nn.Sigmoid(),\n",
    "        )\n",
    "\n",
    "    def forward(self, x):\n",
    "        x = x.view(x.size(0), input_layer)\n",
    "        output = self.model(x)\n",
    "        return output\n",
    "    \n",
    "discriminator = Discriminator().to(device=device)"
   ]
  },
  {
   "attachments": {},
   "cell_type": "markdown",
   "metadata": {},
   "source": [
    "### Hàm Generator"
   ]
  },
  {
   "cell_type": "code",
   "execution_count": 16,
   "metadata": {},
   "outputs": [],
   "source": [
    "class Generator(nn.Module):\n",
    "    def __init__(self):\n",
    "        super().__init__()\n",
    "        self.model = nn.Sequential(\n",
    "            nn.Linear(input_layer, 256),\n",
    "            nn.ReLU(),\n",
    "            nn.Dropout(0.3), \n",
    "            nn.Linear(256, 512),\n",
    "            nn.ReLU(),\n",
    "            nn.Dropout(0.3),\n",
    "            nn.Linear(512, 1024),\n",
    "            nn.ReLU(),\n",
    "            nn.Dropout(0.3),\n",
    "            nn.Linear(1024, input_layer),\n",
    "            nn.Tanh(),\n",
    "        )\n",
    "\n",
    "    def forward(self, x):\n",
    "        output = self.model(x)\n",
    "        output = output.view(x.size(0), input_layer)\n",
    "        return output\n",
    "\n",
    "generator = Generator().to(device=device)"
   ]
  },
  {
   "attachments": {},
   "cell_type": "markdown",
   "metadata": {},
   "source": [
    "### Khởi tạo các giá trị laerning rate, epochs, batch_size, hàm loss, optimization"
   ]
  },
  {
   "cell_type": "code",
   "execution_count": 17,
   "metadata": {},
   "outputs": [],
   "source": [
    "lr = 0.0001\n",
    "num_epochs = 2000\n",
    "batch_size= 32\n",
    "loss_function = nn.BCELoss()\n",
    "optimizer_discriminator = torch.optim.Adam(discriminator.parameters(), lr=lr)\n",
    "optimizer_generator = torch.optim.Adam(generator.parameters(), lr=lr)"
   ]
  },
  {
   "attachments": {},
   "cell_type": "markdown",
   "metadata": {},
   "source": [
    "### Dùng để chuyển đổi dạng đầu vào nếu dùng trích xuất là Bert"
   ]
  },
  {
   "cell_type": "code",
   "execution_count": 18,
   "metadata": {},
   "outputs": [],
   "source": [
    "# X_source = X_train.to(device=device, dtype=torch.float32)\n",
    "# X_target = X_test.to(device=device, dtype=torch.float32)"
   ]
  },
  {
   "cell_type": "code",
   "execution_count": 19,
   "metadata": {},
   "outputs": [],
   "source": [
    "X_source = torch.from_numpy(X_train).to(device=device, dtype=torch.float32)\n",
    "X_target = torch.from_numpy(X_test).to(device=device, dtype=torch.float32)"
   ]
  },
  {
   "attachments": {},
   "cell_type": "markdown",
   "metadata": {},
   "source": [
    "### Tranining"
   ]
  },
  {
   "cell_type": "code",
   "execution_count": 20,
   "metadata": {},
   "outputs": [
    {
     "name": "stdout",
     "output_type": "stream",
     "text": [
      "accuracy: 0.370782473082806\n",
      "accuracy: 0.6291275530096272\n",
      "accuracy: 0.6067840326305372\n",
      "accuracy: 0.6239390576732747\n",
      "accuracy: 0.6272381009507243\n",
      "accuracy: 0.6294274660348499\n",
      "accuracy: 0.6213598056563596\n",
      "accuracy: 0.6293674834298053\n",
      "accuracy: 0.6279578922112588\n",
      "accuracy: 0.37855022043607356\n",
      "accuracy: 0.378490237831029\n",
      "accuracy: 0.6291275530096272\n",
      "accuracy: 0.5028341780883544\n",
      "accuracy: 0.6294274660348499\n",
      "accuracy: 0.6045646762438893\n",
      "accuracy: 0.6247188315388538\n",
      "accuracy: 0.6293974747323277\n",
      "accuracy: 0.5841106079237022\n",
      "accuracy: 0.6295174399424167\n",
      "accuracy: 0.5316258285097322\n"
     ]
    }
   ],
   "source": [
    "for epoch in range(num_epochs):\n",
    "    idx = np.random.randint(0, X_source.shape[0], batch_size)\n",
    "    real_samples  = X_source[idx]\n",
    "    real_samples_labels = torch.ones((batch_size,1)).to(device=device)\n",
    "    latent_space_samples = torch.rand((batch_size,input_layer)).to( device=device)\n",
    "    \n",
    "    generated_samples = generator(latent_space_samples)\n",
    "    generated_samples_labels = torch.zeros((batch_size, 1)).to(\n",
    "            device=device\n",
    "        )\n",
    "    all_samples = torch.cat((real_samples, generated_samples))\n",
    "    all_samples_labels = torch.cat(\n",
    "            (real_samples_labels, generated_samples_labels)\n",
    "        )\n",
    "\n",
    "        # Training the discriminator\n",
    "    discriminator.zero_grad()\n",
    "    \n",
    "    output_discriminator = discriminator(all_samples)\n",
    "    all_samples_labels = all_samples_labels.view(-1, 1)\n",
    "    loss_discriminator = loss_function(\n",
    "            output_discriminator, all_samples_labels\n",
    "        )\n",
    "    loss_discriminator.backward()\n",
    "    optimizer_discriminator.step()\n",
    "\n",
    "        # Data for training the generator\n",
    "    latent_space_samples = torch.rand((batch_size,input_layer)).to(device=device)\n",
    "\n",
    "        # Training the generator\n",
    "    generator.zero_grad()\n",
    "    generated_samples = generator(latent_space_samples)\n",
    "    output_discriminator_generated = discriminator(generated_samples)\n",
    "    loss_generator = loss_function(\n",
    "            output_discriminator_generated, real_samples_labels\n",
    "        )\n",
    "    loss_generator.backward()\n",
    "    optimizer_generator.step()\n",
    "    if(epoch%100==0):\n",
    "        predicted_labels = discriminator(X_target)\n",
    "        new_tensor = torch.where(predicted_labels >= 0.5, torch.tensor(1), torch.tensor(0))\n",
    "        new_label = new_tensor.numpy()\n",
    "        \n",
    "        # print(f\"accuracy: {accuracy_score(y_target, new_label)}\")\n",
    "        print(f\"Epoch: {epoch/100} Loss D.: {loss_discriminator}\")\n",
    "        print(f\"Epoch: {epoch/100} Loss G.: {loss_generator}\")\n",
    " "
   ]
  },
  {
   "attachments": {},
   "cell_type": "markdown",
   "metadata": {},
   "source": [
    "### chuyển tensor output về 0 và 1"
   ]
  },
  {
   "cell_type": "code",
   "execution_count": 22,
   "metadata": {},
   "outputs": [],
   "source": [
    "predicted_labels = discriminator(X_target)\n",
    "new_tensor = torch.where(predicted_labels >= 0.5, torch.tensor(1), torch.tensor(0))"
   ]
  },
  {
   "cell_type": "code",
   "execution_count": 23,
   "metadata": {},
   "outputs": [],
   "source": [
    "new_label = new_tensor.numpy()"
   ]
  },
  {
   "attachments": {},
   "cell_type": "markdown",
   "metadata": {},
   "source": [
    "### Kết quả phân loại trên tập test"
   ]
  },
  {
   "cell_type": "code",
   "execution_count": 25,
   "metadata": {},
   "outputs": [
    {
     "data": {
      "text/plain": [
       "0.6285577182617041"
      ]
     },
     "execution_count": 25,
     "metadata": {},
     "output_type": "execute_result"
    }
   ],
   "source": [
    "accuracy = accuracy_score(y_target, new_label)\n",
    "accuracy"
   ]
  },
  {
   "cell_type": "code",
   "execution_count": 26,
   "metadata": {},
   "outputs": [
    {
     "name": "stdout",
     "output_type": "stream",
     "text": [
      "accuracy = 0.6285577182617041\n",
      "              precision    recall  f1-score   support\n",
      "\n",
      "           0       0.38      0.00      0.01     12353\n",
      "           1       0.63      1.00      0.77     20990\n",
      "\n",
      "    accuracy                           0.63     33343\n",
      "   macro avg       0.50      0.50      0.39     33343\n",
      "weighted avg       0.54      0.63      0.49     33343\n",
      "\n",
      "Confusion Matrix: \n",
      " [[   49 12304]\n",
      " [   81 20909]]\n"
     ]
    }
   ],
   "source": [
    "print('accuracy =', accuracy_score(y_target, new_label))\n",
    "print(classification_report(y_target,new_label))\n",
    "print('Confusion Matrix: \\n',confusion_matrix(y_target, new_label))"
   ]
  }
 ],
 "metadata": {
  "kernelspec": {
   "display_name": "Python 3",
   "language": "python",
   "name": "python3"
  },
  "language_info": {
   "codemirror_mode": {
    "name": "ipython",
    "version": 3
   },
   "file_extension": ".py",
   "mimetype": "text/x-python",
   "name": "python",
   "nbconvert_exporter": "python",
   "pygments_lexer": "ipython3",
   "version": "3.9.11"
  },
  "orig_nbformat": 4
 },
 "nbformat": 4,
 "nbformat_minor": 2
}
