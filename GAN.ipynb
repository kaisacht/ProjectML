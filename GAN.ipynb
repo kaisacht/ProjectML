{
 "cells": [
  {
   "cell_type": "code",
   "execution_count": 1,
   "metadata": {},
   "outputs": [],
   "source": [
    "import torch\n",
    "from torch import nn\n",
    "import pandas as pd\n",
    "import numpy as np\n",
    "import math\n",
    "import matplotlib.pyplot as plt\n",
    "from keras.preprocessing.text import Tokenizer\n",
    "from tensorflow.keras.preprocessing.sequence import pad_sequences\n"
   ]
  },
  {
   "cell_type": "code",
   "execution_count": 2,
   "metadata": {},
   "outputs": [],
   "source": [
    "data_source = pd.read_csv('dataset_capec_combine.csv')\n",
    "#data_source = data_source[data_source['label']=='242 - Code Injection']\n",
    "data_target  = pd.read_csv('dataset_capec_transfer.csv')\n",
    "#data_target = data_target[data_target['label']=='242 - Code Injection']\n",
    "X_source = data_source['text'].str.replace('/',' ')\n",
    "y_source = data_source['label']\n",
    "X_target  = data_target ['text'].str.replace('/','')\n",
    "y_target  = data_target ['label']\n",
    "rlist =['000 - Normal', '126 - Path Traversal',\n",
    "       '153 - Input Data Manipulation', '194 - Fake the Source of Data',\n",
    "       '242 - Code Injection', '310 - Scanning for Vulnerable Software',\n",
    "       '34 - HTTP Response Splitting']\n",
    "mapping = {l: i+1 for i, l in enumerate(rlist)}\n",
    "y_source = [mapping[s] for s in y_source] \n",
    "y_target  = [mapping[r] for r in y_target ]\n",
    "y_source = np.array(y_source)\n",
    "y_target  = np.array(y_target )"
   ]
  },
  {
   "cell_type": "code",
   "execution_count": 3,
   "metadata": {},
   "outputs": [],
   "source": [
    "from sklearn.feature_extraction.text import CountVectorizer, TfidfVectorizer\n",
    "import numpy as np\n",
    "import json\n",
    "\n",
    "\n",
    "class Vectorizer:\n",
    "    def __init__(self, method='BOW', ngram_range=(1, 1), max_features=300, emb_fname='', word_index_fname=''):\n",
    "        self.method = method\n",
    "        if self.method == 'BOW':\n",
    "            self.vectorizer = CountVectorizer(analyzer='word', input='content', ngram_range=ngram_range, max_features=max_features)\n",
    "        elif self.method == 'TFIDF':\n",
    "            self.vectorizer = TfidfVectorizer(analyzer='word', input='content', max_features=max_features)\n",
    "        elif self.method == 'Word2Vec':\n",
    "            self.max_features = max_features\n",
    "            self.emb_fname = emb_fname\n",
    "            self.word_index_fname = word_index_fname\n",
    "        else:\n",
    "            raise ValueError('Feature extraction method does not exist.')\n",
    "\n",
    "    def feature_extraction(self, X_train, X_test):\n",
    "        train_data = self.vectorizer.fit_transform(X_train).toarray()\n",
    "        test_data = self.vectorizer.transform(X_test).toarray()\n",
    "        return train_data, test_data\n",
    "\n",
    "    def get_word_index(self):\n",
    "        word2id = json.load(open(self.word_index_fname, 'r'))\n",
    "        return word2id\n",
    "\n",
    "    def get_embedding_matrix(self):\n",
    "        np.random.seed(0)\n",
    "        word2id = self.get_word_index()\n",
    "        embedding_matrix = np.random.uniform(-0.25, 0.25, [len(word2id) + 1, self.max_features])\n",
    "        with open(self.emb_fname, 'r', encoding='utf-8') as f:\n",
    "            for line in f:\n",
    "                content = line.split(' ')\n",
    "                if content[0] in word2id:\n",
    "                    embedding_matrix[word2id[content[0]]] = np.array(list(map(float, content[1:])))\n",
    "        return embedding_matrix"
   ]
  },
  {
   "cell_type": "code",
   "execution_count": 4,
   "metadata": {},
   "outputs": [],
   "source": [
    "vectorizer = Vectorizer('TFIDF')\n",
    "X_source, X_target = vectorizer.feature_extraction(X_source, X_target)"
   ]
  },
  {
   "cell_type": "code",
   "execution_count": 5,
   "metadata": {},
   "outputs": [],
   "source": [
    "device = \"\"\n",
    "if torch.cuda.is_available():\n",
    "    device = torch.device(\"cuda\")\n",
    "else:\n",
    "    device = torch.device(\"cpu\")"
   ]
  },
  {
   "cell_type": "code",
   "execution_count": 6,
   "metadata": {},
   "outputs": [],
   "source": [
    "class Discriminator(nn.Module):\n",
    "    def __init__(self):\n",
    "        super().__init__()\n",
    "        self.model = nn.Sequential(\n",
    "            nn.Linear(300, 1024),\n",
    "            nn.ReLU(),\n",
    "            nn.Dropout(0.3),\n",
    "            nn.Linear(1024, 512),\n",
    "            nn.ReLU(),\n",
    "            nn.Dropout(0.3),\n",
    "            nn.Linear(512, 256),\n",
    "            nn.ReLU(),\n",
    "            nn.Dropout(0.3),\n",
    "            nn.Linear(256, 1),\n",
    "            nn.Sigmoid(),\n",
    "        )\n",
    "\n",
    "    def forward(self, x):\n",
    "        x = x.view(x.size(0), 300)\n",
    "        output = self.model(x)\n",
    "        return output"
   ]
  },
  {
   "cell_type": "code",
   "execution_count": 7,
   "metadata": {},
   "outputs": [],
   "source": [
    "discriminator = Discriminator().to(device=device)"
   ]
  },
  {
   "cell_type": "code",
   "execution_count": 8,
   "metadata": {},
   "outputs": [],
   "source": [
    "class Generator(nn.Module):\n",
    "    def __init__(self):\n",
    "        super().__init__()\n",
    "        self.model = nn.Sequential(\n",
    "            nn.Linear(300, 256),\n",
    "            nn.ReLU(),\n",
    "            nn.Linear(256, 512),\n",
    "            nn.ReLU(),\n",
    "            nn.Linear(512, 1024),\n",
    "            nn.ReLU(),\n",
    "            nn.Linear(1024, 300),\n",
    "            nn.Tanh(),\n",
    "        )\n",
    "\n",
    "    def forward(self, x):\n",
    "        output = self.model(x)\n",
    "        output = output.view(x.size(0), 300)\n",
    "        return output\n",
    "\n",
    "generator = Generator().to(device=device)"
   ]
  },
  {
   "cell_type": "code",
   "execution_count": 9,
   "metadata": {},
   "outputs": [],
   "source": [
    "lr = 0.00001\n",
    "num_epochs = 1000\n",
    "batch_size=64\n",
    "loss_function = nn.BCELoss()\n",
    "\n",
    "optimizer_discriminator = torch.optim.Adam(discriminator.parameters(), lr=lr)\n",
    "optimizer_generator = torch.optim.Adam(generator.parameters(), lr=lr)"
   ]
  },
  {
   "cell_type": "code",
   "execution_count": 10,
   "metadata": {},
   "outputs": [],
   "source": [
    "X_source = torch.from_numpy(X_source).to(device=device, dtype=torch.float32)\n",
    "X_target = torch.from_numpy(X_target).to(device=device, dtype=torch.float32)"
   ]
  },
  {
   "cell_type": "code",
   "execution_count": 11,
   "metadata": {},
   "outputs": [
    {
     "name": "stdout",
     "output_type": "stream",
     "text": [
      "Epoch: 100 Loss D.: 0.694064199924469\n",
      "Epoch: 100 Loss G.: 0.6704955101013184\n",
      "Epoch: 200 Loss D.: 0.6918748617172241\n",
      "Epoch: 200 Loss G.: 0.6663752794265747\n",
      "Epoch: 300 Loss D.: 0.6874771118164062\n",
      "Epoch: 300 Loss G.: 0.6762346625328064\n",
      "Epoch: 400 Loss D.: 0.69292813539505\n",
      "Epoch: 400 Loss G.: 0.6784495711326599\n",
      "Epoch: 500 Loss D.: 0.6961239576339722\n",
      "Epoch: 500 Loss G.: 0.677997350692749\n",
      "Epoch: 600 Loss D.: 0.6924618482589722\n",
      "Epoch: 600 Loss G.: 0.67661052942276\n",
      "Epoch: 700 Loss D.: 0.6926349997520447\n",
      "Epoch: 700 Loss G.: 0.6823282837867737\n",
      "Epoch: 800 Loss D.: 0.6919769048690796\n",
      "Epoch: 800 Loss G.: 0.6852318644523621\n",
      "Epoch: 900 Loss D.: 0.6942624449729919\n",
      "Epoch: 900 Loss G.: 0.6842519044876099\n",
      "Epoch: 1000 Loss D.: 0.6912605166435242\n",
      "Epoch: 1000 Loss G.: 0.6911723017692566\n"
     ]
    }
   ],
   "source": [
    "for epoch in range(num_epochs):\n",
    "    idx = np.random.randint(0, X_source.shape[0], batch_size)\n",
    "    real_samples  = X_source[idx]\n",
    "    real_samples_labels = torch.ones((batch_size,1)).to(device=device)\n",
    "    latent_space_samples = torch.rand((batch_size,300)).to( device=device)\n",
    "    \n",
    "    generated_samples = generator(latent_space_samples)\n",
    "    generated_samples_labels = torch.zeros((batch_size, 1)).to(\n",
    "            device=device\n",
    "        )\n",
    "    all_samples = torch.cat((real_samples, generated_samples))\n",
    "    all_samples_labels = torch.cat(\n",
    "            (real_samples_labels, generated_samples_labels)\n",
    "        )\n",
    "\n",
    "        # Training the discriminator\n",
    "    discriminator.zero_grad()\n",
    "    output_discriminator = discriminator(all_samples)\n",
    "    loss_discriminator = loss_function(\n",
    "            output_discriminator, all_samples_labels\n",
    "        )\n",
    "    loss_discriminator.backward()\n",
    "    optimizer_discriminator.step()\n",
    "\n",
    "        # Data for training the generator\n",
    "    latent_space_samples = torch.rand((batch_size,300)).to(device=device)\n",
    "\n",
    "        # Training the generator\n",
    "    generator.zero_grad()\n",
    "    generated_samples = generator(latent_space_samples)\n",
    "    output_discriminator_generated = discriminator(generated_samples)\n",
    "    loss_generator = loss_function(\n",
    "            output_discriminator_generated, real_samples_labels\n",
    "        )\n",
    "    loss_generator.backward()\n",
    "    optimizer_generator.step()\n",
    "    if(epoch%100==0):\n",
    "        print(f\"Epoch: {epoch+100} Loss D.: {loss_discriminator}\")\n",
    "        print(f\"Epoch: {epoch+100} Loss G.: {loss_generator}\")\n",
    " "
   ]
  },
  {
   "cell_type": "code",
   "execution_count": 12,
   "metadata": {},
   "outputs": [],
   "source": [
    "#k = int (X_source.shape[0]*0.2/64)\n",
    "#for i in range(k):\n",
    "    #latent_space_samples = torch.rand((batch_size,40)).to(device=device)\n",
    "    #X_source = torch.cat([X_source, generator(latent_space_samples)], dim=0)\n",
    "#torch.save(X_source, 'tensor_000.pt')"
   ]
  },
  {
   "cell_type": "code",
   "execution_count": 13,
   "metadata": {},
   "outputs": [],
   "source": [
    "def count_elements_greater_than(tensor, threshold):\n",
    "    # Áp dụng phép so sánh >= threshold\n",
    "    mask = tensor >= threshold\n",
    "\n",
    "    # Tính tổng các phần tử True trong mask\n",
    "    count = torch.sum(mask)\n",
    "\n",
    "    return count.item()\n",
    "            "
   ]
  },
  {
   "cell_type": "code",
   "execution_count": 14,
   "metadata": {},
   "outputs": [
    {
     "data": {
      "text/plain": [
       "0.6961671884254167"
      ]
     },
     "execution_count": 14,
     "metadata": {},
     "output_type": "execute_result"
    }
   ],
   "source": [
    "predicted_labels = discriminator(X_target)\n",
    "\n",
    "cou = count_elements_greater_than(predicted_labels, 0.5)\n",
    "\n",
    "cou/predicted_labels.shape[0]"
   ]
  }
 ],
 "metadata": {
  "kernelspec": {
   "display_name": "Python 3",
   "language": "python",
   "name": "python3"
  },
  "language_info": {
   "codemirror_mode": {
    "name": "ipython",
    "version": 3
   },
   "file_extension": ".py",
   "mimetype": "text/x-python",
   "name": "python",
   "nbconvert_exporter": "python",
   "pygments_lexer": "ipython3",
   "version": "3.9.11"
  },
  "orig_nbformat": 4
 },
 "nbformat": 4,
 "nbformat_minor": 2
}
