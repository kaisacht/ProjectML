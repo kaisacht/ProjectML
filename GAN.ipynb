{
 "cells": [
  {
   "cell_type": "code",
   "execution_count": 1,
   "metadata": {},
   "outputs": [
    {
     "name": "stderr",
     "output_type": "stream",
     "text": [
      "c:\\Users\\Admin\\AppData\\Local\\Programs\\Python\\Python39\\lib\\site-packages\\tqdm\\auto.py:21: TqdmWarning: IProgress not found. Please update jupyter and ipywidgets. See https://ipywidgets.readthedocs.io/en/stable/user_install.html\n",
      "  from .autonotebook import tqdm as notebook_tqdm\n"
     ]
    }
   ],
   "source": [
    "import torch\n",
    "from torch import nn\n",
    "import pandas as pd\n",
    "import numpy as np\n",
    "import math\n",
    "import matplotlib.pyplot as plt\n",
    "from keras.preprocessing.text import Tokenizer\n",
    "from tensorflow.keras.preprocessing.sequence import pad_sequences\n",
    "import random\n",
    "from transformers import BertTokenizer, BertModel\n",
    "from sklearn.model_selection import train_test_split\n"
   ]
  },
  {
   "cell_type": "code",
   "execution_count": 2,
   "metadata": {},
   "outputs": [],
   "source": [
    "data_source = pd.read_csv('data_source.csv')\n",
    "#data_source = data_source[data_source['label']=='153 - Input Data Manipulation']\n",
    "data_source, _ = train_test_split(data_source, test_size=0.9, random_state=42)\n",
    "data_target  = pd.read_csv('data_target.csv')\n",
    "data_target, _ = train_test_split(data_target, test_size=0.9, random_state=42)\n",
    "\n",
    "data_target = data_target.sample(frac=1, random_state=42)\n",
    "#data_target = data_target[data_target['label']=='153 - Input Data Manipulation']\n",
    "X_source = data_source['text'].str.replace('/',' ')\n",
    "y_source = data_source['label']\n",
    "X_target  = data_target ['text'].str.replace('/','')\n",
    "y_target  = data_target ['label']\n",
    "rlist =['194 - Fake the Source of Data', '66 - SQL Injection',\n",
    "       '34 - HTTP Response Splitting', '126 - Path Traversal',\n",
    "       '000 - Normal', '272 - Protocol Manipulation',\n",
    "       '310 - Scanning for Vulnerable Software', '242 - Code Injection',\n",
    "       '153 - Input Data Manipulation']\n",
    "mapping = {l: i+1 for i, l in enumerate(rlist)}\n",
    "y_source = [mapping[s] for s in y_source] \n",
    "y_target  = [mapping[r] for r in y_target ]\n",
    "y_source = np.array(y_source)\n",
    "y_target  = np.array(y_target )\n"
   ]
  },
  {
   "cell_type": "code",
   "execution_count": 3,
   "metadata": {},
   "outputs": [
    {
     "data": {
      "text/plain": [
       "28148"
      ]
     },
     "execution_count": 3,
     "metadata": {},
     "output_type": "execute_result"
    }
   ],
   "source": [
    "len(X_source)"
   ]
  },
  {
   "cell_type": "code",
   "execution_count": 4,
   "metadata": {},
   "outputs": [],
   "source": [
    "import multiprocessing"
   ]
  },
  {
   "cell_type": "code",
   "execution_count": 5,
   "metadata": {},
   "outputs": [],
   "source": [
    "# from transformers import AutoTokenizer, AutoModel\n",
    "\n",
    "\n",
    "# X_source = list(X_source)\n",
    "# X_target = list(X_target)\n",
    "# input_texts_source = X_source\n",
    "# input_text_target = X_target\n",
    "# model_name = 'jackaduma/SecBERT'\n",
    "# tokenizer = AutoTokenizer.from_pretrained(model_name)\n",
    "# model = AutoModel.from_pretrained(model_name)\n",
    "\n",
    "# def extract_features(text):\n",
    "#     tokens = tokenizer.tokenize(text)\n",
    "#     token_ids = tokenizer.convert_tokens_to_ids(tokens)\n",
    "#     input_tensor = torch.tensor([token_ids])\n",
    "\n",
    "#     with torch.no_grad():\n",
    "#         outputs = model(input_tensor)\n",
    "    \n",
    "#     last_hidden_state = outputs.last_hidden_state\n",
    "#     first_token_features = last_hidden_state[0, 0, :]\n",
    "\n",
    "#     return first_token_features"
   ]
  },
  {
   "cell_type": "code",
   "execution_count": 6,
   "metadata": {},
   "outputs": [
    {
     "name": "stderr",
     "output_type": "stream",
     "text": [
      "Some weights of the model checkpoint at jackaduma/SecBERT were not used when initializing BertModel: ['cls.predictions.transform.dense.weight', 'cls.predictions.transform.LayerNorm.weight', 'cls.predictions.decoder.bias', 'cls.predictions.transform.dense.bias', 'cls.predictions.decoder.weight', 'cls.predictions.bias', 'cls.predictions.transform.LayerNorm.bias']\n",
      "- This IS expected if you are initializing BertModel from the checkpoint of a model trained on another task or with another architecture (e.g. initializing a BertForSequenceClassification model from a BertForPreTraining model).\n",
      "- This IS NOT expected if you are initializing BertModel from the checkpoint of a model that you expect to be exactly identical (initializing a BertForSequenceClassification model from a BertForSequenceClassification model).\n"
     ]
    },
    {
     "name": "stdout",
     "output_type": "stream",
     "text": [
      "0.0\n",
      "0.03552650277106722\n",
      "0.07105300554213444\n",
      "0.10657950831320165\n",
      "0.14210601108426887\n",
      "0.17763251385533607\n",
      "0.2131590166264033\n",
      "0.24868551939747052\n",
      "0.28421202216853775\n",
      "0.3197385249396049\n",
      "0.35526502771067214\n",
      "0.39079153048173937\n",
      "0.4263180332528066\n",
      "0.4618445360238738\n",
      "0.49737103879494104\n",
      "0.5328975415660082\n",
      "0.5684240443370755\n",
      "0.6039505471081427\n",
      "0.6394770498792098\n",
      "0.6750035526502771\n",
      "0.7105300554213443\n",
      "0.7460565581924116\n",
      "0.7815830609634787\n",
      "0.817109563734546\n",
      "0.8526360665056132\n",
      "0.8881625692766804\n",
      "0.9236890720477476\n",
      "0.9592155748188148\n",
      "0.9947420775898821\n",
      "0.0\n",
      "0.12297097884899164\n",
      "0.24594195769798327\n",
      "0.36891293654697493\n",
      "0.49188391539596654\n",
      "0.6148548942449582\n",
      "0.7378258730939499\n",
      "0.8607968519429414\n",
      "0.9837678307919331\n"
     ]
    }
   ],
   "source": [
    "from transformers import AutoTokenizer, AutoModel\n",
    "model_name = 'jackaduma/SecBERT'\n",
    "tokenizer = AutoTokenizer.from_pretrained(model_name)\n",
    "model = AutoModel.from_pretrained(model_name)\n",
    "\n",
    "X_source = list(X_source)\n",
    "X_target = list(X_target)\n",
    "input_texts_source = X_source\n",
    "input_text_target = X_target\n",
    "\n",
    "X_train = []\n",
    "X_test = []\n",
    "\n",
    "for i , text in enumerate(input_texts_source):\n",
    "\n",
    "    tokens = tokenizer.tokenize(text)\n",
    "\n",
    "    token_ids = tokenizer.convert_tokens_to_ids(tokens)\n",
    "\n",
    "    input_tensor = torch.tensor([token_ids])\n",
    "    with torch.no_grad():\n",
    "        outputs = model(input_tensor)\n",
    "\n",
    "    last_hidden_state = outputs.last_hidden_state\n",
    "\n",
    "    first_token_features = last_hidden_state[0, 0, :]\n",
    "\n",
    "    X_train.append(first_token_features)\n",
    "    if i%1000==0 :\n",
    "        print(i/len(X_source))\n",
    "\n",
    "for j , text in enumerate(input_text_target):\n",
    "\n",
    "    tokens = tokenizer.tokenize(text)\n",
    "\n",
    "    token_ids = tokenizer.convert_tokens_to_ids(tokens)\n",
    "\n",
    "    input_tensor = torch.tensor([token_ids])\n",
    "    with torch.no_grad():\n",
    "        outputs = model(input_tensor)\n",
    "\n",
    "    last_hidden_state = outputs.last_hidden_state\n",
    "\n",
    "    first_token_features = last_hidden_state[0, 0, :]\n",
    "\n",
    "    X_test.append(first_token_features)\n",
    "    if j%1000==0 :\n",
    "        print(j/len(X_target))\n"
   ]
  },
  {
   "cell_type": "code",
   "execution_count": 7,
   "metadata": {},
   "outputs": [],
   "source": [
    "X_test = torch.stack(X_test)\n",
    "X_train = torch.stack(X_train)"
   ]
  },
  {
   "cell_type": "code",
   "execution_count": 8,
   "metadata": {},
   "outputs": [],
   "source": [
    "y_target = np.where(np.logical_or(y_target == 8, y_target == 9), 0, 1)"
   ]
  },
  {
   "cell_type": "code",
   "execution_count": 9,
   "metadata": {},
   "outputs": [],
   "source": [
    "# from sklearn.feature_extraction.text import CountVectorizer, TfidfVectorizer\n",
    "# import json\n",
    "\n",
    "\n",
    "# class Vectorizer:\n",
    "#     def __init__(self, method='BOW', ngram_range=(1, 1), max_features=300, emb_fname='', word_index_fname=''):\n",
    "#         self.method = method\n",
    "#         if self.method == 'BOW':\n",
    "#             self.vectorizer = CountVectorizer(analyzer='word', input='content', ngram_range=ngram_range, max_features=max_features)\n",
    "#         elif self.method == 'TFIDF':\n",
    "#             self.vectorizer = TfidfVectorizer(analyzer='word', input='content', max_features=max_features)\n",
    "#         elif self.method == 'Word2Vec':\n",
    "#             self.max_features = max_features\n",
    "#             self.emb_fname = emb_fname\n",
    "#             self.word_index_fname = word_index_fname\n",
    "#         else:\n",
    "#             raise ValueError('Feature extraction method does not exist.')\n",
    "\n",
    "#     def feature_extraction(self, X_train, X_test):\n",
    "#         train_data = self.vectorizer.fit_transform(X_train).toarray()\n",
    "#         test_data = self.vectorizer.transform(X_test).toarray()\n",
    "#         return train_data, test_data\n",
    "\n",
    "#     def get_word_index(self):\n",
    "#         word2id = json.load(open(self.word_index_fname, 'r'))\n",
    "#         return word2id\n",
    "\n",
    "#     def get_embedding_matrix(self):\n",
    "#         np.random.seed(0)\n",
    "#         word2id = self.get_word_index()\n",
    "#         embedding_matrix = np.random.uniform(-0.25, 0.25, [len(word2id) + 1, self.max_features])\n",
    "#         with open(self.emb_fname, 'r', encoding='utf-8') as f:\n",
    "#             for line in f:\n",
    "#                 content = line.split(' ')\n",
    "#                 if content[0] in word2id:\n",
    "#                     embedding_matrix[word2id[content[0]]] = np.array(list(map(float, content[1:])))\n",
    "#         return embedding_matrix"
   ]
  },
  {
   "cell_type": "code",
   "execution_count": 10,
   "metadata": {},
   "outputs": [],
   "source": [
    "# vectorizer = Vectorizer('TFIDF')\n",
    "# X_train, X_test = vectorizer.feature_extraction(X_source, X_target)"
   ]
  },
  {
   "cell_type": "code",
   "execution_count": 11,
   "metadata": {},
   "outputs": [],
   "source": [
    "# from gensim.models import Word2Vec\n",
    "# sentences = [sentence.split() for sentence in X_source]\n",
    "# w2v_model = Word2Vec(sentences, window=5, min_count=5, workers=4)"
   ]
  },
  {
   "cell_type": "code",
   "execution_count": 12,
   "metadata": {},
   "outputs": [],
   "source": [
    "# def vectorize(sentence):\n",
    "#     words = sentence.split()\n",
    "#     words_vecs = [w2v_model.wv[word] for word in words if word in w2v_model.wv]\n",
    "#     if len(words_vecs) == 0:\n",
    "#         return np.zeros(100)\n",
    "#     words_vecs = np.array(words_vecs)\n",
    "#     return words_vecs.mean(axis=0)\n",
    "\n",
    "# X_train = np.array([vectorize(sentence) for sentence in X_source])\n",
    "# X_test = np.array([vectorize(sentence) for sentence in X_target])"
   ]
  },
  {
   "cell_type": "code",
   "execution_count": 13,
   "metadata": {},
   "outputs": [],
   "source": [
    "device = \"\"\n",
    "if torch.cuda.is_available():\n",
    "    device = torch.device(\"cuda\")\n",
    "else:\n",
    "    device = torch.device(\"cpu\")"
   ]
  },
  {
   "cell_type": "code",
   "execution_count": 14,
   "metadata": {},
   "outputs": [],
   "source": [
    "input_layer = X_train.shape[1]"
   ]
  },
  {
   "cell_type": "code",
   "execution_count": 15,
   "metadata": {},
   "outputs": [],
   "source": [
    "class Discriminator(nn.Module):\n",
    "    def __init__(self):\n",
    "        super().__init__()\n",
    "        self.model = nn.Sequential(\n",
    "            nn.Linear(input_layer, 1024),\n",
    "            nn.ReLU(),\n",
    "            nn.Dropout(0.3),\n",
    "            nn.Linear(1024, 512),\n",
    "            nn.ReLU(),\n",
    "            nn.Dropout(0.3),\n",
    "            nn.Linear(512, 256),\n",
    "            nn.ReLU(),\n",
    "            nn.Dropout(0.3),\n",
    "            nn.Linear(256, 1),\n",
    "            nn.Sigmoid(),\n",
    "        )\n",
    "\n",
    "    def forward(self, x):\n",
    "        x = x.view(x.size(0), input_layer)\n",
    "        output = self.model(x)\n",
    "        return output"
   ]
  },
  {
   "cell_type": "code",
   "execution_count": 16,
   "metadata": {},
   "outputs": [],
   "source": [
    "discriminator = Discriminator().to(device=device)"
   ]
  },
  {
   "cell_type": "code",
   "execution_count": 17,
   "metadata": {},
   "outputs": [],
   "source": [
    "class Generator(nn.Module):\n",
    "    def __init__(self):\n",
    "        super().__init__()\n",
    "        self.model = nn.Sequential(\n",
    "            nn.Linear(input_layer, 256),\n",
    "            nn.ReLU(),\n",
    "            nn.Linear(256, 512),\n",
    "            nn.ReLU(),\n",
    "            nn.Linear(512, 1024),\n",
    "            nn.ReLU(),\n",
    "            nn.Linear(1024, input_layer),\n",
    "            nn.Tanh(),\n",
    "        )\n",
    "\n",
    "    def forward(self, x):\n",
    "        output = self.model(x)\n",
    "        output = output.view(x.size(0), input_layer)\n",
    "        return output\n",
    "\n",
    "generator = Generator().to(device=device)"
   ]
  },
  {
   "cell_type": "code",
   "execution_count": 18,
   "metadata": {},
   "outputs": [],
   "source": [
    "lr = 0.00001\n",
    "num_epochs = 1000\n",
    "batch_size= 32\n",
    "loss_function = nn.BCELoss()\n",
    "optimizer_discriminator = torch.optim.Adam(discriminator.parameters(), lr=lr)\n",
    "optimizer_generator = torch.optim.Adam(generator.parameters(), lr=lr)"
   ]
  },
  {
   "cell_type": "code",
   "execution_count": 19,
   "metadata": {},
   "outputs": [],
   "source": [
    "X_source = X_train.to(device=device, dtype=torch.float32)\n",
    "X_target = X_test.to(device=device, dtype=torch.float32)\n"
   ]
  },
  {
   "cell_type": "code",
   "execution_count": 20,
   "metadata": {},
   "outputs": [],
   "source": [
    "# X_source = torch.from_numpy(X_train).to(device=device, dtype=torch.float32)\n",
    "# X_target = torch.from_numpy(X_test).to(device=device, dtype=torch.float32)"
   ]
  },
  {
   "cell_type": "code",
   "execution_count": 21,
   "metadata": {},
   "outputs": [
    {
     "name": "stdout",
     "output_type": "stream",
     "text": [
      "Epoch: 0.0 Loss D.: 0.7013780474662781\n",
      "Epoch: 0.0 Loss G.: 0.7065547704696655\n",
      "Epoch: 1.0 Loss D.: 0.5207404494285583\n",
      "Epoch: 1.0 Loss G.: 0.6323729157447815\n",
      "Epoch: 2.0 Loss D.: 0.43727222084999084\n",
      "Epoch: 2.0 Loss G.: 0.7495318055152893\n",
      "Epoch: 3.0 Loss D.: 0.4119413495063782\n",
      "Epoch: 3.0 Loss G.: 0.746780276298523\n",
      "Epoch: 4.0 Loss D.: 0.35297921299934387\n",
      "Epoch: 4.0 Loss G.: 0.8493854403495789\n",
      "Epoch: 5.0 Loss D.: 0.3598809838294983\n",
      "Epoch: 5.0 Loss G.: 0.7763939499855042\n",
      "Epoch: 6.0 Loss D.: 0.2969912886619568\n",
      "Epoch: 6.0 Loss G.: 0.875113844871521\n",
      "Epoch: 7.0 Loss D.: 0.2880514860153198\n",
      "Epoch: 7.0 Loss G.: 0.9223963022232056\n",
      "Epoch: 8.0 Loss D.: 0.3007437288761139\n",
      "Epoch: 8.0 Loss G.: 0.9320600628852844\n",
      "Epoch: 9.0 Loss D.: 0.2509166896343231\n",
      "Epoch: 9.0 Loss G.: 0.987364649772644\n"
     ]
    }
   ],
   "source": [
    "for epoch in range(num_epochs):\n",
    "    idx = np.random.randint(0, X_source.shape[0], batch_size)\n",
    "    real_samples  = X_source[idx]\n",
    "    real_samples_labels = torch.ones((batch_size,1)).to(device=device)\n",
    "    latent_space_samples = torch.rand((batch_size,input_layer)).to( device=device)\n",
    "    \n",
    "    generated_samples = generator(latent_space_samples)\n",
    "    generated_samples_labels = torch.zeros((batch_size, 1)).to(\n",
    "            device=device\n",
    "        )\n",
    "    all_samples = torch.cat((real_samples, generated_samples))\n",
    "    all_samples_labels = torch.cat(\n",
    "            (real_samples_labels, generated_samples_labels)\n",
    "        )\n",
    "\n",
    "        # Training the discriminator\n",
    "    discriminator.zero_grad()\n",
    "    output_discriminator = discriminator(all_samples)\n",
    "    loss_discriminator = loss_function(\n",
    "            output_discriminator, all_samples_labels\n",
    "        )\n",
    "    loss_discriminator.backward()\n",
    "    optimizer_discriminator.step()\n",
    "\n",
    "        # Data for training the generator\n",
    "    latent_space_samples = torch.rand((batch_size,input_layer)).to(device=device)\n",
    "\n",
    "        # Training the generator\n",
    "    generator.zero_grad()\n",
    "    generated_samples = generator(latent_space_samples)\n",
    "    output_discriminator_generated = discriminator(generated_samples)\n",
    "    loss_generator = loss_function(\n",
    "            output_discriminator_generated, real_samples_labels\n",
    "        )\n",
    "    loss_generator.backward()\n",
    "    optimizer_generator.step()\n",
    "    if(epoch%100==0):\n",
    "        print(f\"Epoch: {epoch/100} Loss D.: {loss_discriminator}\")\n",
    "        print(f\"Epoch: {epoch/100} Loss G.: {loss_generator}\")\n",
    " "
   ]
  },
  {
   "cell_type": "code",
   "execution_count": 22,
   "metadata": {},
   "outputs": [],
   "source": [
    "predicted_labels = discriminator(X_target)\n",
    "new_tensor = torch.where(predicted_labels >= 0.5, torch.tensor(1), torch.tensor(0))"
   ]
  },
  {
   "cell_type": "code",
   "execution_count": 23,
   "metadata": {},
   "outputs": [],
   "source": [
    "new_label = new_tensor.numpy()"
   ]
  },
  {
   "cell_type": "code",
   "execution_count": 24,
   "metadata": {},
   "outputs": [],
   "source": [
    "from sklearn.metrics import accuracy_score"
   ]
  },
  {
   "cell_type": "code",
   "execution_count": 25,
   "metadata": {},
   "outputs": [
    {
     "data": {
      "text/plain": [
       "0.8573536645351697"
      ]
     },
     "execution_count": 25,
     "metadata": {},
     "output_type": "execute_result"
    }
   ],
   "source": [
    "accuracy = accuracy_score(y_target, new_label)\n",
    "accuracy"
   ]
  }
 ],
 "metadata": {
  "kernelspec": {
   "display_name": "Python 3",
   "language": "python",
   "name": "python3"
  },
  "language_info": {
   "codemirror_mode": {
    "name": "ipython",
    "version": 3
   },
   "file_extension": ".py",
   "mimetype": "text/x-python",
   "name": "python",
   "nbconvert_exporter": "python",
   "pygments_lexer": "ipython3",
   "version": "3.9.11"
  },
  "orig_nbformat": 4
 },
 "nbformat": 4,
 "nbformat_minor": 2
}
