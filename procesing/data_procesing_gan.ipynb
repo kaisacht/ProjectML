{
 "cells": [
  {
   "cell_type": "code",
   "execution_count": 1,
   "metadata": {},
   "outputs": [],
   "source": [
    "import torch\n",
    "import pandas as pd\n",
    "from keras.preprocessing.text import Tokenizer\n",
    "from tensorflow.keras.preprocessing.sequence import pad_sequences\n",
    "import numpy as np"
   ]
  },
  {
   "cell_type": "code",
   "execution_count": 2,
   "metadata": {},
   "outputs": [],
   "source": [
    "data_train = pd.read_csv(\"dataset_capec_combine.csv\")\n",
    "data_train = data_train[data_train['label']!='242 - Code Injection'] \n",
    "data_train = data_train[data_train['label']!='153 - Input Data Manipulation']\n",
    "data_test = pd.read_csv(\"dataset_capec_transfer.csv\")\n",
    "X_train = data_train['text'].str.replace('/',' ')\n",
    "X_test = data_test['text'].str.replace('/',' ')\n",
    "y_train = data_train['label']\n",
    "y_test = data_test['label']\n",
    "\n",
    "rlist =['000 - Normal', '126 - Path Traversal',\n",
    "       '153 - Input Data Manipulation', '194 - Fake the Source of Data',\n",
    "       '242 - Code Injection', '310 - Scanning for Vulnerable Software',\n",
    "       '34 - HTTP Response Splitting']\n",
    "\n",
    "mapping = {l: i+1 for i, l in enumerate(rlist)}\n",
    "\n",
    "y_train = [mapping[s] for s in y_train] \n",
    "y_test  = [mapping[r] for r in y_test]\n",
    "\n",
    "y_train = np.array(y_train)\n",
    "y_test  = np.array(y_test)"
   ]
  },
  {
   "cell_type": "code",
   "execution_count": 3,
   "metadata": {},
   "outputs": [],
   "source": [
    "device = \"\"\n",
    "if torch.cuda.is_available():\n",
    "    device = torch.device(\"cuda\")\n",
    "else:\n",
    "    device = torch.device(\"cpu\")"
   ]
  },
  {
   "cell_type": "code",
   "execution_count": 4,
   "metadata": {},
   "outputs": [],
   "source": [
    "tokenizer = Tokenizer(num_words=5000)\n",
    "tokenizer.fit_on_texts(data_train)\n",
    "X_train = tokenizer.texts_to_sequences(X_train)\n",
    "X_train = pad_sequences(X_train, maxlen=40)\n",
    "\n",
    "tokenizer.fit_on_texts(data_test )\n",
    "X_test = tokenizer.texts_to_sequences(X_test )\n",
    "X_test = pad_sequences(X_test , maxlen=40)"
   ]
  },
  {
   "cell_type": "code",
   "execution_count": 5,
   "metadata": {},
   "outputs": [],
   "source": [
    "def normalize_tensor(tensor):\n",
    "    # Tính giá trị trung bình và độ lệch chuẩn của tensor\n",
    "    tensor = tensor.float()\n",
    "    mean = tensor.mean()\n",
    "    std = tensor.std()\n",
    "\n",
    "    # Chuẩn hóa Z-score\n",
    "    normalized_tensor = (tensor - mean) / std\n",
    "\n",
    "    return normalized_tensor"
   ]
  },
  {
   "cell_type": "code",
   "execution_count": 6,
   "metadata": {},
   "outputs": [],
   "source": [
    "X_train = torch.from_numpy(X_train).to(device=device)\n",
    "X_train = normalize_tensor(X_train)\n",
    "X_test = torch.from_numpy(X_test).to(device=device)\n",
    "X_test = normalize_tensor(X_test)"
   ]
  },
  {
   "cell_type": "code",
   "execution_count": 7,
   "metadata": {},
   "outputs": [
    {
     "data": {
      "text/plain": [
       "torch.Size([321602, 41])"
      ]
     },
     "execution_count": 7,
     "metadata": {},
     "output_type": "execute_result"
    }
   ],
   "source": [
    "y_train = torch.tensor(y_train)\n",
    "\n",
    "X_train = torch.cat((X_train, y_train.unsqueeze(1)), dim=1)\n",
    "\n",
    "X_train.shape"
   ]
  },
  {
   "cell_type": "code",
   "execution_count": 8,
   "metadata": {},
   "outputs": [
    {
     "data": {
      "text/plain": [
       "{'000 - Normal': 1,\n",
       " '126 - Path Traversal': 2,\n",
       " '153 - Input Data Manipulation': 3,\n",
       " '194 - Fake the Source of Data': 4,\n",
       " '242 - Code Injection': 5,\n",
       " '310 - Scanning for Vulnerable Software': 6,\n",
       " '34 - HTTP Response Splitting': 7}"
      ]
     },
     "execution_count": 8,
     "metadata": {},
     "output_type": "execute_result"
    }
   ],
   "source": [
    "mapping"
   ]
  },
  {
   "cell_type": "code",
   "execution_count": 11,
   "metadata": {},
   "outputs": [],
   "source": [
    "X_train_153 = torch.load('Data_GAN/tensor_153.pt')\n",
    "y_train_153 = torch.full((X_train_153.shape[0],),3)\n",
    "X_train_242 = torch.load('Data_GAN/tensor_242.pt')\n",
    "y_train_242 = torch.full((X_train_242.shape[0],),5)"
   ]
  },
  {
   "cell_type": "code",
   "execution_count": 12,
   "metadata": {},
   "outputs": [],
   "source": [
    "X_train_153 = torch.cat((X_train_153, y_train_153.unsqueeze(1)), dim=1)\n",
    "X_train_242 = torch.cat((X_train_242, y_train_242.unsqueeze(1)), dim=1)"
   ]
  },
  {
   "cell_type": "code",
   "execution_count": 13,
   "metadata": {},
   "outputs": [],
   "source": [
    "X_train = torch.cat((X_train, X_train_153, X_train_242))"
   ]
  },
  {
   "cell_type": "code",
   "execution_count": 14,
   "metadata": {},
   "outputs": [],
   "source": [
    "torch.save(X_train, 'Data_GAN/tensor_train.pt')"
   ]
  },
  {
   "cell_type": "code",
   "execution_count": 15,
   "metadata": {},
   "outputs": [
    {
     "data": {
      "text/plain": [
       "tensor([3, 3, 3,  ..., 5, 5, 5], dtype=torch.int32)"
      ]
     },
     "execution_count": 15,
     "metadata": {},
     "output_type": "execute_result"
    }
   ],
   "source": [
    "y_test = torch.tensor(y_test)\n",
    "y_test"
   ]
  },
  {
   "cell_type": "code",
   "execution_count": null,
   "metadata": {},
   "outputs": [],
   "source": [
    "X_test = torch.cat((X_test, y_test.unsqueeze(1)),dim=1)"
   ]
  },
  {
   "cell_type": "code",
   "execution_count": null,
   "metadata": {},
   "outputs": [],
   "source": [
    "torch.save(X_test, 'Data_GAN/tensor_test.pt')"
   ]
  }
 ],
 "metadata": {
  "kernelspec": {
   "display_name": "Python 3",
   "language": "python",
   "name": "python3"
  },
  "language_info": {
   "codemirror_mode": {
    "name": "ipython",
    "version": 3
   },
   "file_extension": ".py",
   "mimetype": "text/x-python",
   "name": "python",
   "nbconvert_exporter": "python",
   "pygments_lexer": "ipython3",
   "version": "3.9.11"
  },
  "orig_nbformat": 4
 },
 "nbformat": 4,
 "nbformat_minor": 2
}
