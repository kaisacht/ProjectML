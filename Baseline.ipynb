{
  "cells": [
    {
      "cell_type": "code",
      "execution_count": 1,
      "metadata": {
        "colab": {
          "base_uri": "https://localhost:8080/"
        },
        "id": "7ZMgATHzNciv",
        "outputId": "ead3568c-5dce-43f1-f6b7-e7774c194788"
      },
      "outputs": [
        {
          "name": "stderr",
          "output_type": "stream",
          "text": [
            "[nltk_data] Downloading package punkt to\n",
            "[nltk_data]     C:\\Users\\Admin\\AppData\\Roaming\\nltk_data...\n",
            "[nltk_data]   Package punkt is already up-to-date!\n",
            "[nltk_data] Downloading package averaged_perceptron_tagger to\n",
            "[nltk_data]     C:\\Users\\Admin\\AppData\\Roaming\\nltk_data...\n",
            "[nltk_data]   Package averaged_perceptron_tagger is already up-to-\n",
            "[nltk_data]       date!\n",
            "[nltk_data] Downloading package wordnet to\n",
            "[nltk_data]     C:\\Users\\Admin\\AppData\\Roaming\\nltk_data...\n",
            "[nltk_data]   Package wordnet is already up-to-date!\n"
          ]
        }
      ],
      "source": [
        "import pandas as pd\n",
        "import numpy as np\n",
        "\n",
        "import seaborn as sns\n",
        "import matplotlib.pyplot as plt\n",
        "\n",
        "#for text pre-processing\n",
        "import re, string\n",
        "import nltk\n",
        "from nltk.tokenize import word_tokenize\n",
        "from nltk.corpus import stopwords\n",
        "from nltk.tokenize import word_tokenize\n",
        "from nltk.stem import SnowballStemmer\n",
        "from nltk.corpus import wordnet\n",
        "from nltk.stem import WordNetLemmatizer\n",
        "\n",
        "nltk.download('punkt')\n",
        "nltk.download('averaged_perceptron_tagger')\n",
        "nltk.download('wordnet')\n",
        "\n",
        "#for model-building\n",
        "from sklearn.model_selection import train_test_split\n",
        "from sklearn.linear_model import LogisticRegression\n",
        "from sklearn.linear_model import SGDClassifier\n",
        "from sklearn.naive_bayes import MultinomialNB\n",
        "from sklearn.metrics import classification_report, f1_score, accuracy_score, confusion_matrix\n",
        "from sklearn.metrics import roc_curve, auc, roc_auc_score\n",
        "\n",
        "# bag of words\n",
        "from sklearn.feature_extraction.text import TfidfVectorizer\n",
        "from sklearn.feature_extraction.text import CountVectorizer\n",
        "\n",
        "#for word embedding\n",
        "import gensim\n",
        "from gensim.models import Word2Vec #Word2Vec is mostly used for huge datasets"
      ]
    },
    {
      "cell_type": "code",
      "execution_count": 3,
      "metadata": {
        "colab": {
          "base_uri": "https://localhost:8080/",
          "height": 206
        },
        "id": "vRCaqhhqN0um",
        "outputId": "4e2e902d-3a38-4a7e-9426-900c35b8005b"
      },
      "outputs": [
        {
          "data": {
            "text/html": [
              "<div>\n",
              "<style scoped>\n",
              "    .dataframe tbody tr th:only-of-type {\n",
              "        vertical-align: middle;\n",
              "    }\n",
              "\n",
              "    .dataframe tbody tr th {\n",
              "        vertical-align: top;\n",
              "    }\n",
              "\n",
              "    .dataframe thead th {\n",
              "        text-align: right;\n",
              "    }\n",
              "</style>\n",
              "<table border=\"1\" class=\"dataframe\">\n",
              "  <thead>\n",
              "    <tr style=\"text-align: right;\">\n",
              "      <th></th>\n",
              "      <th>Unnamed: 0</th>\n",
              "      <th>text</th>\n",
              "      <th>label</th>\n",
              "    </tr>\n",
              "  </thead>\n",
              "  <tbody>\n",
              "    <tr>\n",
              "      <th>0</th>\n",
              "      <td>0</td>\n",
              "      <td>GET /blog/index.php/2020/04/04/voluptatum-repr...</td>\n",
              "      <td>000 - Normal</td>\n",
              "    </tr>\n",
              "    <tr>\n",
              "      <th>1</th>\n",
              "      <td>1</td>\n",
              "      <td>GET /blog/xmlrpc.php?rsd</td>\n",
              "      <td>000 - Normal</td>\n",
              "    </tr>\n",
              "    <tr>\n",
              "      <th>2</th>\n",
              "      <td>2</td>\n",
              "      <td>GET /blog/index.php/2020/04/04/nihil-tenetur-e...</td>\n",
              "      <td>000 - Normal</td>\n",
              "    </tr>\n",
              "    <tr>\n",
              "      <th>3</th>\n",
              "      <td>3</td>\n",
              "      <td>GET /blog/index.php/2020/04/04/explicabo-qui-f...</td>\n",
              "      <td>000 - Normal</td>\n",
              "    </tr>\n",
              "    <tr>\n",
              "      <th>4</th>\n",
              "      <td>5</td>\n",
              "      <td>GET /blog/index.php/comments/feed/</td>\n",
              "      <td>000 - Normal</td>\n",
              "    </tr>\n",
              "  </tbody>\n",
              "</table>\n",
              "</div>"
            ],
            "text/plain": [
              "   Unnamed: 0                                               text         label\n",
              "0           0  GET /blog/index.php/2020/04/04/voluptatum-repr...  000 - Normal\n",
              "1           1                           GET /blog/xmlrpc.php?rsd  000 - Normal\n",
              "2           2  GET /blog/index.php/2020/04/04/nihil-tenetur-e...  000 - Normal\n",
              "3           3  GET /blog/index.php/2020/04/04/explicabo-qui-f...  000 - Normal\n",
              "4           5                 GET /blog/index.php/comments/feed/  000 - Normal"
            ]
          },
          "execution_count": 3,
          "metadata": {},
          "output_type": "execute_result"
        }
      ],
      "source": [
        "df_train = pd.read_csv('data_capec.csv')\n",
        "df_train.head()"
      ]
    },
    {
      "cell_type": "code",
      "execution_count": 10,
      "metadata": {
        "colab": {
          "base_uri": "https://localhost:8080/",
          "height": 1000
        },
        "id": "Q3AHD17DN0xb",
        "outputId": "74b7ed06-ba35-4264-b238-4c0b6d8c411d"
      },
      "outputs": [
        {
          "name": "stdout",
          "output_type": "stream",
          "text": [
            "66 - SQL Injection                        182811\n",
            "000 - Normal                               90915\n",
            "194 - Fake the Source of Data              43324\n",
            "34 - HTTP Response Splitting               18215\n",
            "126 - Path Traversal                       11435\n",
            "242 - Code Injection                        9825\n",
            "272 - Protocol Manipulation                 2794\n",
            "310 - Scanning for Vulnerable Software      2364\n",
            "153 - Input Data Manipulation               1123\n",
            "Name: label, dtype: int64\n"
          ]
        },
        {
          "data": {
            "text/plain": [
              "(array([0, 1, 2, 3, 4, 5, 6, 7, 8]),\n",
              " [Text(0, 0, '66 - SQL Injection'),\n",
              "  Text(1, 0, '000 - Normal'),\n",
              "  Text(2, 0, '194 - Fake the Source of Data'),\n",
              "  Text(3, 0, '34 - HTTP Response Splitting'),\n",
              "  Text(4, 0, '126 - Path Traversal'),\n",
              "  Text(5, 0, '242 - Code Injection'),\n",
              "  Text(6, 0, '272 - Protocol Manipulation'),\n",
              "  Text(7, 0, '310 - Scanning for Vulnerable Software'),\n",
              "  Text(8, 0, '153 - Input Data Manipulation')])"
            ]
          },
          "execution_count": 10,
          "metadata": {},
          "output_type": "execute_result"
        },
        {
          "data": {
            "image/png": "[encoded data removed]",
            "text/plain": [
              "<Figure size 640x480 with 1 Axes>"
            ]
          },
          "metadata": {},
          "output_type": "display_data"
        }
      ],
      "source": [
        "# CLASS DISTRIBUTION\n",
        "#if dataset is balanced or not\n",
        "x=df_train['label'].value_counts()\n",
        "print(x)\n",
        "sns.barplot(x = x.index, y = x)\n",
        "plt.xticks(rotation=90)"
      ]
    },
    {
      "cell_type": "markdown",
      "metadata": {
        "id": "_3U21mu7Fk0B"
      },
      "source": [
        "# Create Feature Extraction Module (BOW and TF-IDF)"
      ]
    },
    {
      "cell_type": "code",
      "execution_count": 4,
      "metadata": {
        "id": "Aq5EwTspULoC"
      },
      "outputs": [],
      "source": [
        "from sklearn.feature_extraction.text import CountVectorizer, TfidfVectorizer\n",
        "import numpy as np\n",
        "import json\n",
        "\n",
        "\n",
        "class Vectorizer:\n",
        "    def __init__(self, method='BOW', ngram_range=(1, 1), max_features=300, emb_fname='', word_index_fname=''):\n",
        "        self.method = method\n",
        "        if self.method == 'BOW':\n",
        "            self.vectorizer = CountVectorizer(analyzer='word', input='content', ngram_range=ngram_range, max_features=max_features)\n",
        "        elif self.method == 'TFIDF':\n",
        "            self.vectorizer = TfidfVectorizer(analyzer='word', input='content', max_features=max_features)\n",
        "        elif self.method == 'Word2Vec':\n",
        "            self.max_features = max_features\n",
        "            self.emb_fname = emb_fname\n",
        "            self.word_index_fname = word_index_fname\n",
        "        else:\n",
        "            raise ValueError('Feature extraction method does not exist.')\n",
        "\n",
        "    def feature_extraction(self, X_train, X_test):\n",
        "        train_data = self.vectorizer.fit_transform(X_train).toarray()\n",
        "        test_data = self.vectorizer.transform(X_test).toarray()\n",
        "        return train_data, test_data\n",
        "\n",
        "    def get_word_index(self):\n",
        "        word2id = json.load(open(self.word_index_fname, 'r'))\n",
        "        return word2id\n",
        "\n",
        "    def get_embedding_matrix(self):\n",
        "        np.random.seed(0)\n",
        "        word2id = self.get_word_index()\n",
        "        embedding_matrix = np.random.uniform(-0.25, 0.25, [len(word2id) + 1, self.max_features])\n",
        "        with open(self.emb_fname, 'r', encoding='utf-8') as f:\n",
        "            for line in f:\n",
        "                content = line.split(' ')\n",
        "                if content[0] in word2id:\n",
        "                    embedding_matrix[word2id[content[0]]] = np.array(list(map(float, content[1:])))\n",
        "        return embedding_matrix"
      ]
    },
    {
      "cell_type": "code",
      "execution_count": 5,
      "metadata": {
        "colab": {
          "base_uri": "https://localhost:8080/",
          "height": 206
        },
        "id": "bGe-PWnU_Lqt",
        "outputId": "1e812fb6-db41-426c-d3c4-671a23c4ea7f"
      },
      "outputs": [
        {
          "data": {
            "text/html": [
              "<div>\n",
              "<style scoped>\n",
              "    .dataframe tbody tr th:only-of-type {\n",
              "        vertical-align: middle;\n",
              "    }\n",
              "\n",
              "    .dataframe tbody tr th {\n",
              "        vertical-align: top;\n",
              "    }\n",
              "\n",
              "    .dataframe thead th {\n",
              "        text-align: right;\n",
              "    }\n",
              "</style>\n",
              "<table border=\"1\" class=\"dataframe\">\n",
              "  <thead>\n",
              "    <tr style=\"text-align: right;\">\n",
              "      <th></th>\n",
              "      <th>Unnamed: 0</th>\n",
              "      <th>text</th>\n",
              "      <th>label</th>\n",
              "    </tr>\n",
              "  </thead>\n",
              "  <tbody>\n",
              "    <tr>\n",
              "      <th>0</th>\n",
              "      <td>0</td>\n",
              "      <td>GET  blog index.php 2020 04 04 voluptatum-repr...</td>\n",
              "      <td>000 - Normal</td>\n",
              "    </tr>\n",
              "    <tr>\n",
              "      <th>1</th>\n",
              "      <td>1</td>\n",
              "      <td>GET  blog xmlrpc.php?rsd</td>\n",
              "      <td>000 - Normal</td>\n",
              "    </tr>\n",
              "    <tr>\n",
              "      <th>2</th>\n",
              "      <td>2</td>\n",
              "      <td>GET  blog index.php 2020 04 04 nihil-tenetur-e...</td>\n",
              "      <td>000 - Normal</td>\n",
              "    </tr>\n",
              "    <tr>\n",
              "      <th>3</th>\n",
              "      <td>3</td>\n",
              "      <td>GET  blog index.php 2020 04 04 explicabo-qui-f...</td>\n",
              "      <td>000 - Normal</td>\n",
              "    </tr>\n",
              "    <tr>\n",
              "      <th>4</th>\n",
              "      <td>5</td>\n",
              "      <td>GET  blog index.php comments feed</td>\n",
              "      <td>000 - Normal</td>\n",
              "    </tr>\n",
              "  </tbody>\n",
              "</table>\n",
              "</div>"
            ],
            "text/plain": [
              "   Unnamed: 0                                               text         label\n",
              "0           0  GET  blog index.php 2020 04 04 voluptatum-repr...  000 - Normal\n",
              "1           1                           GET  blog xmlrpc.php?rsd  000 - Normal\n",
              "2           2  GET  blog index.php 2020 04 04 nihil-tenetur-e...  000 - Normal\n",
              "3           3  GET  blog index.php 2020 04 04 explicabo-qui-f...  000 - Normal\n",
              "4           5                 GET  blog index.php comments feed   000 - Normal"
            ]
          },
          "execution_count": 5,
          "metadata": {},
          "output_type": "execute_result"
        }
      ],
      "source": [
        "# Optional (not effect very much)\n",
        "df_train['text'] = df_train['text'].str.replace('/',' ')\n",
        "df_train.head()"
      ]
    },
    {
      "cell_type": "markdown",
      "metadata": {
        "id": "54GCGlu5F0N9"
      },
      "source": [
        "# TF-IDF Feature Extraction"
      ]
    },
    {
      "cell_type": "markdown",
      "metadata": {
        "id": "MSrinD3LGDPB"
      },
      "source": [
        "## Naive Bayes Classifier"
      ]
    },
    {
      "cell_type": "code",
      "execution_count": 13,
      "metadata": {
        "colab": {
          "base_uri": "https://localhost:8080/"
        },
        "id": "ZMOBKdJNULtX",
        "outputId": "52c5644d-3a4d-4d13-e742-a4af012c9f91"
      },
      "outputs": [
        {
          "name": "stdout",
          "output_type": "stream",
          "text": [
            "0.8660455886000937\n"
          ]
        }
      ],
      "source": [
        "from sklearn.model_selection import train_test_split\n",
        "from sklearn.naive_bayes import MultinomialNB\n",
        "X_train, X_val, y_train, y_val = train_test_split(df_train[\"text\"],\n",
        "                                                  df_train[\"label\"],\n",
        "                                                  test_size=0.2,\n",
        "                                                  shuffle=True)\n",
        "vectorizer = Vectorizer('TFIDF')\n",
        "train_features, test_features = vectorizer.feature_extraction(X_train, X_val)\n",
        "mnb = MultinomialNB()\n",
        "mnb.fit(train_features, y_train)\n",
        "print(mnb.score(test_features, y_val))\n",
        "\n",
        "\n"
      ]
    },
    {
      "cell_type": "markdown",
      "metadata": {
        "id": "hF2mmpGYGIri"
      },
      "source": [
        "## Random Forest Classifier"
      ]
    },
    {
      "cell_type": "code",
      "execution_count": 14,
      "metadata": {
        "colab": {
          "base_uri": "https://localhost:8080/"
        },
        "id": "-1gAEMFe2ksd",
        "outputId": "3379d907-2b0a-4210-eb69-8e9a5445c5c9"
      },
      "outputs": [
        {
          "name": "stdout",
          "output_type": "stream",
          "text": [
            "0.9693641299853918\n"
          ]
        }
      ],
      "source": [
        "from sklearn.ensemble import RandomForestClassifier\n",
        "\n",
        "rf = RandomForestClassifier(n_estimators=10, criterion='gini')\n",
        "rf.fit(train_features, y_train)\n",
        "print(rf.score(test_features, y_val))"
      ]
    },
    {
      "cell_type": "code",
      "execution_count": 15,
      "metadata": {
        "colab": {
          "base_uri": "https://localhost:8080/"
        },
        "id": "D0tKg33t2kus",
        "outputId": "25300dff-1b97-47ca-a26c-e9ead3f50e29"
      },
      "outputs": [
        {
          "name": "stdout",
          "output_type": "stream",
          "text": [
            "                                        precision    recall  f1-score   support\n",
            "\n",
            "                          000 - Normal       0.93      0.98      0.95     18260\n",
            "                  126 - Path Traversal       1.00      0.93      0.96      2269\n",
            "         153 - Input Data Manipulation       0.57      0.02      0.03       230\n",
            "         194 - Fake the Source of Data       1.00      0.98      0.99      8624\n",
            "                  242 - Code Injection       1.00      0.99      0.99      2002\n",
            "           272 - Protocol Manipulation       0.51      0.09      0.15       563\n",
            "310 - Scanning for Vulnerable Software       0.94      0.99      0.96       493\n",
            "          34 - HTTP Response Splitting       1.00      1.00      1.00      3664\n",
            "                    66 - SQL Injection       0.98      0.98      0.98     36457\n",
            "\n",
            "                              accuracy                           0.97     72562\n",
            "                             macro avg       0.88      0.77      0.78     72562\n",
            "                          weighted avg       0.97      0.97      0.97     72562\n",
            "\n",
            "Confusion Matrix: \n",
            " [[17892     5     0    12     1    13    19     0   318]\n",
            " [  102  2112     0     0     0     7     0     0    48]\n",
            " [   83     0     4     0     0     0     0     0   143]\n",
            " [   77     0     2  8462     1     7     0     0    75]\n",
            " [    9     0     0     0  1976     0     0     0    17]\n",
            " [  395     1     1    24     0    49    11     0    82]\n",
            " [    4     0     0     0     0     0   488     0     1]\n",
            " [    2     0     0     0     0     0     0  3662     0]\n",
            " [  729     4     0     1     7    21     1     0 35694]]\n"
          ]
        }
      ],
      "source": [
        "y_predict = rf.predict(test_features)\n",
        "print(classification_report(y_val,y_predict))\n",
        "print('Confusion Matrix: \\n',confusion_matrix(y_val, y_predict))"
      ]
    },
    {
      "cell_type": "markdown",
      "metadata": {
        "id": "OKnfOsljGL9q"
      },
      "source": [
        "## Decision Tree Classifier"
      ]
    },
    {
      "cell_type": "code",
      "execution_count": 16,
      "metadata": {
        "colab": {
          "base_uri": "https://localhost:8080/"
        },
        "id": "jtK4JMDFD0EO",
        "outputId": "2150f9eb-7e82-4b1d-fb84-066d7cd8b0d7"
      },
      "outputs": [
        {
          "name": "stdout",
          "output_type": "stream",
          "text": [
            "0.9692263168049392\n"
          ]
        }
      ],
      "source": [
        "from sklearn.tree import DecisionTreeClassifier\n",
        "\n",
        "dt = DecisionTreeClassifier(criterion='gini')\n",
        "dt.fit(train_features, y_train)\n",
        "print(dt.score(test_features, y_val))"
      ]
    },
    {
      "cell_type": "code",
      "execution_count": 17,
      "metadata": {
        "colab": {
          "base_uri": "https://localhost:8080/"
        },
        "id": "lNu1tXfrEHuZ",
        "outputId": "820ece35-bad7-4884-97ce-485d51c6da70"
      },
      "outputs": [
        {
          "name": "stdout",
          "output_type": "stream",
          "text": [
            "                                        precision    recall  f1-score   support\n",
            "\n",
            "                          000 - Normal       0.93      0.98      0.95     18260\n",
            "                  126 - Path Traversal       0.99      0.93      0.96      2269\n",
            "         153 - Input Data Manipulation       0.57      0.02      0.03       230\n",
            "         194 - Fake the Source of Data       1.00      0.98      0.99      8624\n",
            "                  242 - Code Injection       1.00      0.99      0.99      2002\n",
            "           272 - Protocol Manipulation       0.45      0.10      0.17       563\n",
            "310 - Scanning for Vulnerable Software       0.94      0.99      0.96       493\n",
            "          34 - HTTP Response Splitting       1.00      1.00      1.00      3664\n",
            "                    66 - SQL Injection       0.98      0.98      0.98     36457\n",
            "\n",
            "                              accuracy                           0.97     72562\n",
            "                             macro avg       0.87      0.78      0.78     72562\n",
            "                          weighted avg       0.97      0.97      0.97     72562\n",
            "\n",
            "Confusion Matrix: \n",
            " [[17897     3     0    10     2    12    20     0   316]\n",
            " [  101  2111     0     0     0     8     0     0    49]\n",
            " [   83     0     4     0     0     0     0     0   143]\n",
            " [   76     0     2  8455     0    15     0     0    76]\n",
            " [    3     0     0     0  1987     3     0     0     9]\n",
            " [  387     1     1    19     0    59    13     0    83]\n",
            " [    3     0     0     0     0     0   490     0     0]\n",
            " [    0     0     0     0     0     0     0  3664     0]\n",
            " [  748     7     0     0     6    33     1     0 35662]]\n"
          ]
        }
      ],
      "source": [
        "y_predict = dt.predict(test_features)\n",
        "print(classification_report(y_val,y_predict))\n",
        "print('Confusion Matrix: \\n',confusion_matrix(y_val, y_predict))"
      ]
    },
    {
      "cell_type": "markdown",
      "metadata": {
        "id": "edp_bhD3GOqe"
      },
      "source": [
        "# AdaBoost Classifier"
      ]
    },
    {
      "cell_type": "code",
      "execution_count": 18,
      "metadata": {
        "colab": {
          "base_uri": "https://localhost:8080/"
        },
        "id": "rYaVHjG82k8c",
        "outputId": "bcc365f2-205c-4af2-8495-3a68379851d6"
      },
      "outputs": [
        {
          "name": "stdout",
          "output_type": "stream",
          "text": [
            "0.6962321876464265\n"
          ]
        }
      ],
      "source": [
        "from sklearn.ensemble import AdaBoostClassifier\n",
        "\n",
        "abc = AdaBoostClassifier(n_estimators=10)\n",
        "abc.fit(train_features, y_train)\n",
        "print(abc.score(test_features, y_val))"
      ]
    },
    {
      "cell_type": "code",
      "execution_count": 19,
      "metadata": {
        "colab": {
          "base_uri": "https://localhost:8080/"
        },
        "id": "Q8hwR-IR5ZDA",
        "outputId": "2c0b1da4-05d0-4a66-eeb9-bee29bc95908"
      },
      "outputs": [
        {
          "name": "stderr",
          "output_type": "stream",
          "text": [
            "c:\\Users\\Admin\\AppData\\Local\\Programs\\Python\\Python39\\lib\\site-packages\\sklearn\\metrics\\_classification.py:1344: UndefinedMetricWarning: Precision and F-score are ill-defined and being set to 0.0 in labels with no predicted samples. Use `zero_division` parameter to control this behavior.\n",
            "  _warn_prf(average, modifier, msg_start, len(result))\n",
            "c:\\Users\\Admin\\AppData\\Local\\Programs\\Python\\Python39\\lib\\site-packages\\sklearn\\metrics\\_classification.py:1344: UndefinedMetricWarning: Precision and F-score are ill-defined and being set to 0.0 in labels with no predicted samples. Use `zero_division` parameter to control this behavior.\n",
            "  _warn_prf(average, modifier, msg_start, len(result))\n"
          ]
        },
        {
          "name": "stdout",
          "output_type": "stream",
          "text": [
            "                                        precision    recall  f1-score   support\n",
            "\n",
            "                          000 - Normal       0.00      0.00      0.00     18260\n",
            "                  126 - Path Traversal       0.00      0.00      0.00      2269\n",
            "         153 - Input Data Manipulation       0.00      0.00      0.00       230\n",
            "         194 - Fake the Source of Data       1.00      0.98      0.99      8624\n",
            "                  242 - Code Injection       1.00      0.96      0.98      2002\n",
            "           272 - Protocol Manipulation       0.00      0.00      0.00       563\n",
            "310 - Scanning for Vulnerable Software       0.00      0.00      0.00       493\n",
            "          34 - HTTP Response Splitting       1.00      1.00      1.00      3664\n",
            "                    66 - SQL Injection       0.62      1.00      0.77     36457\n",
            "\n",
            "                              accuracy                           0.70     72562\n",
            "                             macro avg       0.40      0.44      0.42     72562\n",
            "                          weighted avg       0.51      0.70      0.58     72562\n",
            "\n",
            "Confusion Matrix: \n",
            " [[    0     0     0     0     2     0     0     0 18258]\n",
            " [    0     0     0     0     0     0     0     0  2269]\n",
            " [    0     0     0     0     0     0     0     0   230]\n",
            " [    0     0     0  8468     0     0     0     0   156]\n",
            " [    0     0     0     0  1931     0     0     0    71]\n",
            " [    0     0     0    30     0     0     0     0   533]\n",
            " [    0     0     0     1     0     0     0     0   492]\n",
            " [    0     0     0     0     0     0     0  3664     0]\n",
            " [    0     0     0     0     0     0     0     0 36457]]\n"
          ]
        },
        {
          "name": "stderr",
          "output_type": "stream",
          "text": [
            "c:\\Users\\Admin\\AppData\\Local\\Programs\\Python\\Python39\\lib\\site-packages\\sklearn\\metrics\\_classification.py:1344: UndefinedMetricWarning: Precision and F-score are ill-defined and being set to 0.0 in labels with no predicted samples. Use `zero_division` parameter to control this behavior.\n",
            "  _warn_prf(average, modifier, msg_start, len(result))\n"
          ]
        }
      ],
      "source": [
        "y_predict = abc.predict(test_features)\n",
        "print(classification_report(y_val,y_predict))\n",
        "print('Confusion Matrix: \\n',confusion_matrix(y_val, y_predict))"
      ]
    },
    {
      "cell_type": "markdown",
      "metadata": {
        "id": "WFyh5wxdGRZD"
      },
      "source": [
        "## Logistic Regression Classifier"
      ]
    },
    {
      "cell_type": "code",
      "execution_count": 20,
      "metadata": {
        "colab": {
          "base_uri": "https://localhost:8080/"
        },
        "id": "T3Nip0265ZFo",
        "outputId": "c6dab4be-704c-4d57-fc61-7b51dee596d4"
      },
      "outputs": [
        {
          "name": "stdout",
          "output_type": "stream",
          "text": [
            "0.9603098040296574\n"
          ]
        },
        {
          "name": "stderr",
          "output_type": "stream",
          "text": [
            "c:\\Users\\Admin\\AppData\\Local\\Programs\\Python\\Python39\\lib\\site-packages\\sklearn\\linear_model\\_logistic.py:458: ConvergenceWarning: lbfgs failed to converge (status=1):\n",
            "STOP: TOTAL NO. of ITERATIONS REACHED LIMIT.\n",
            "\n",
            "Increase the number of iterations (max_iter) or scale the data as shown in:\n",
            "    https://scikit-learn.org/stable/modules/preprocessing.html\n",
            "Please also refer to the documentation for alternative solver options:\n",
            "    https://scikit-learn.org/stable/modules/linear_model.html#logistic-regression\n",
            "  n_iter_i = _check_optimize_result(\n"
          ]
        }
      ],
      "source": [
        "from sklearn.linear_model import LogisticRegression\n",
        "\n",
        "lr = LogisticRegression()\n",
        "lr.fit(train_features, y_train)\n",
        "print(lr.score(test_features, y_val))\n"
      ]
    },
    {
      "cell_type": "code",
      "execution_count": 21,
      "metadata": {
        "colab": {
          "base_uri": "https://localhost:8080/"
        },
        "id": "uM8uWCJx5ZIm",
        "outputId": "f2ee76fc-45eb-4c1f-cdf5-ceae6f7b6460"
      },
      "outputs": [
        {
          "name": "stdout",
          "output_type": "stream",
          "text": [
            "                                        precision    recall  f1-score   support\n",
            "\n",
            "                          000 - Normal       0.90      0.97      0.94     18260\n",
            "                  126 - Path Traversal       0.98      0.92      0.94      2269\n",
            "         153 - Input Data Manipulation       0.33      0.00      0.01       230\n",
            "         194 - Fake the Source of Data       1.00      0.98      0.99      8624\n",
            "                  242 - Code Injection       1.00      0.97      0.98      2002\n",
            "           272 - Protocol Manipulation       0.00      0.00      0.00       563\n",
            "310 - Scanning for Vulnerable Software       0.93      0.95      0.94       493\n",
            "          34 - HTTP Response Splitting       1.00      1.00      1.00      3664\n",
            "                    66 - SQL Injection       0.98      0.97      0.97     36457\n",
            "\n",
            "                              accuracy                           0.96     72562\n",
            "                             macro avg       0.79      0.75      0.75     72562\n",
            "                          weighted avg       0.95      0.96      0.96     72562\n",
            "\n",
            "Confusion Matrix: \n",
            " [[17700    46     0     4     1     0    27     0   482]\n",
            " [  170  2077     0     1     0     0     0     0    21]\n",
            " [   83     0     1     0     0     0     0     0   146]\n",
            " [   74     0     0  8467     0     1     0     0    82]\n",
            " [    7     0     0     0  1938     0     0     0    57]\n",
            " [  431     2     2    30     0     0     9     0    89]\n",
            " [   21     1     0     0     0     0   470     0     1]\n",
            " [    0     0     0     0     0     0     0  3664     0]\n",
            " [ 1087     2     0     0     2     0     1     0 35365]]\n"
          ]
        }
      ],
      "source": [
        "y_predict = lr.predict(test_features)\n",
        "print(classification_report(y_val,y_predict))\n",
        "print('Confusion Matrix: \\n',confusion_matrix(y_val, y_predict))"
      ]
    },
    {
      "cell_type": "markdown",
      "metadata": {
        "id": "KLw6SpOxGVOS"
      },
      "source": [
        "# BOW Feature Extraction"
      ]
    },
    {
      "cell_type": "markdown",
      "metadata": {
        "id": "Kq7XC6rPGgba"
      },
      "source": [
        "## Naive Bayes Classifier"
      ]
    },
    {
      "cell_type": "code",
      "execution_count": 22,
      "metadata": {
        "colab": {
          "base_uri": "https://localhost:8080/"
        },
        "id": "VJbqm6iUE2bj",
        "outputId": "07dcacfa-2d75-4766-c3f5-e2e48b75bfd1"
      },
      "outputs": [
        {
          "name": "stdout",
          "output_type": "stream",
          "text": [
            "0.8202778313717924\n"
          ]
        }
      ],
      "source": [
        "vectorizer = Vectorizer('BOW')\n",
        "train_features, test_features = vectorizer.feature_extraction(X_train, X_val)\n",
        "mnb = MultinomialNB()\n",
        "mnb.fit(train_features, y_train)\n",
        "print(mnb.score(test_features, y_val))"
      ]
    },
    {
      "cell_type": "code",
      "execution_count": 23,
      "metadata": {
        "colab": {
          "base_uri": "https://localhost:8080/"
        },
        "id": "EurujopUE8FK",
        "outputId": "0289132d-6ea0-4ca3-ab9b-bb96ba224c3c"
      },
      "outputs": [
        {
          "name": "stdout",
          "output_type": "stream",
          "text": [
            "                                        precision    recall  f1-score   support\n",
            "\n",
            "                          000 - Normal       0.69      0.88      0.77     18260\n",
            "                  126 - Path Traversal       0.99      0.90      0.94      2269\n",
            "         153 - Input Data Manipulation       0.08      1.00      0.16       230\n",
            "         194 - Fake the Source of Data       0.98      0.95      0.96      8624\n",
            "                  242 - Code Injection       0.96      0.84      0.90      2002\n",
            "           272 - Protocol Manipulation       0.04      0.13      0.07       563\n",
            "310 - Scanning for Vulnerable Software       0.90      0.50      0.64       493\n",
            "          34 - HTTP Response Splitting       0.94      0.97      0.95      3664\n",
            "                    66 - SQL Injection       0.96      0.75      0.84     36457\n",
            "\n",
            "                              accuracy                           0.82     72562\n",
            "                             macro avg       0.73      0.77      0.69     72562\n",
            "                          weighted avg       0.88      0.82      0.84     72562\n",
            "\n",
            "Confusion Matrix: \n",
            " [[16109    19   504   104     1   524    19   223   757]\n",
            " [  134  2042    51     1     0    19     0     0    22]\n",
            " [    0     0   230     0     0     0     0     0     0]\n",
            " [   28     0   405  8165     0    25     0     0     1]\n",
            " [  148     0    24     0  1679   123     1     0    27]\n",
            " [  355     0    54    31     0    71     1     1    50]\n",
            " [   30     0     0     2     0     0   248     0   213]\n",
            " [   11     0    83     0     0     5     0  3554    11]\n",
            " [ 6699     0  1357    42    66   848     7    15 27423]]\n"
          ]
        }
      ],
      "source": [
        "y_predict = mnb.predict(test_features)\n",
        "print(classification_report(y_val,y_predict))\n",
        "print('Confusion Matrix: \\n',confusion_matrix(y_val, y_predict))"
      ]
    },
    {
      "cell_type": "markdown",
      "metadata": {
        "id": "UkfTtKPYGlBm"
      },
      "source": [
        "## Random Forest Classifier"
      ]
    },
    {
      "cell_type": "code",
      "execution_count": 24,
      "metadata": {
        "colab": {
          "base_uri": "https://localhost:8080/"
        },
        "id": "U-A_-YSfFBwS",
        "outputId": "ddfe6ecb-93e8-4851-c8c3-c2b642124364"
      },
      "outputs": [
        {
          "name": "stdout",
          "output_type": "stream",
          "text": [
            "0.9691711915327582\n"
          ]
        }
      ],
      "source": [
        "from sklearn.ensemble import RandomForestClassifier\n",
        "\n",
        "rf = RandomForestClassifier(n_estimators=10, criterion='gini')\n",
        "rf.fit(train_features, y_train)\n",
        "print(rf.score(test_features, y_val))"
      ]
    },
    {
      "cell_type": "code",
      "execution_count": 25,
      "metadata": {
        "colab": {
          "base_uri": "https://localhost:8080/"
        },
        "id": "_MEkkBgxFByz",
        "outputId": "a7a14a0d-16c2-4558-e9e7-f5bc37a90c96"
      },
      "outputs": [
        {
          "name": "stdout",
          "output_type": "stream",
          "text": [
            "                                        precision    recall  f1-score   support\n",
            "\n",
            "                          000 - Normal       0.93      0.98      0.95     18260\n",
            "                  126 - Path Traversal       1.00      0.93      0.96      2269\n",
            "         153 - Input Data Manipulation       0.57      0.02      0.03       230\n",
            "         194 - Fake the Source of Data       1.00      0.98      0.99      8624\n",
            "                  242 - Code Injection       1.00      0.99      0.99      2002\n",
            "           272 - Protocol Manipulation       0.46      0.11      0.18       563\n",
            "310 - Scanning for Vulnerable Software       0.94      0.99      0.97       493\n",
            "          34 - HTTP Response Splitting       1.00      1.00      1.00      3664\n",
            "                    66 - SQL Injection       0.98      0.98      0.98     36457\n",
            "\n",
            "                              accuracy                           0.97     72562\n",
            "                             macro avg       0.87      0.78      0.78     72562\n",
            "                          weighted avg       0.97      0.97      0.97     72562\n",
            "\n",
            "Confusion Matrix: \n",
            " [[17875     4     0    21     1    22    18     0   319]\n",
            " [   99  2112     0     0     0     8     0     0    50]\n",
            " [   83     0     4     0     0     0     0     0   143]\n",
            " [   75     0     2  8463     0     8     0     0    76]\n",
            " [    4     0     0     0  1989     0     0     0     9]\n",
            " [  380     2     1    18     0    63    12     0    87]\n",
            " [    4     0     0     0     0     0   489     0     0]\n",
            " [    0     0     0     0     0     0     0  3664     0]\n",
            " [  744     4     0     0     7    35     1     0 35666]]\n"
          ]
        }
      ],
      "source": [
        "y_predict = rf.predict(test_features)\n",
        "print(classification_report(y_val,y_predict))\n",
        "print('Confusion Matrix: \\n',confusion_matrix(y_val, y_predict))"
      ]
    },
    {
      "cell_type": "markdown",
      "metadata": {
        "id": "H_6dtPnFGorS"
      },
      "source": [
        "## Decision Tree Classifier"
      ]
    },
    {
      "cell_type": "code",
      "execution_count": 26,
      "metadata": {
        "colab": {
          "base_uri": "https://localhost:8080/"
        },
        "id": "2xKbOulCFB00",
        "outputId": "48a01176-47cd-417d-f8c6-cb1a204a26d9"
      },
      "outputs": [
        {
          "name": "stdout",
          "output_type": "stream",
          "text": [
            "0.9699980706154737\n"
          ]
        }
      ],
      "source": [
        "from sklearn.tree import DecisionTreeClassifier\n",
        "\n",
        "dt = DecisionTreeClassifier(criterion='gini')\n",
        "dt.fit(train_features, y_train)\n",
        "print(dt.score(test_features, y_val))"
      ]
    },
    {
      "cell_type": "code",
      "execution_count": 27,
      "metadata": {
        "colab": {
          "base_uri": "https://localhost:8080/"
        },
        "id": "Hjgavip6FB3g",
        "outputId": "30eef8e5-f908-4c41-f8f4-3fd13cbace42"
      },
      "outputs": [
        {
          "name": "stdout",
          "output_type": "stream",
          "text": [
            "                                        precision    recall  f1-score   support\n",
            "\n",
            "                          000 - Normal       0.93      0.98      0.95     18260\n",
            "                  126 - Path Traversal       0.99      0.93      0.96      2269\n",
            "         153 - Input Data Manipulation       0.50      0.02      0.03       230\n",
            "         194 - Fake the Source of Data       1.00      0.98      0.99      8624\n",
            "                  242 - Code Injection       1.00      1.00      1.00      2002\n",
            "           272 - Protocol Manipulation       0.52      0.12      0.20       563\n",
            "310 - Scanning for Vulnerable Software       0.94      1.00      0.97       493\n",
            "          34 - HTTP Response Splitting       1.00      1.00      1.00      3664\n",
            "                    66 - SQL Injection       0.98      0.98      0.98     36457\n",
            "\n",
            "                              accuracy                           0.97     72562\n",
            "                             macro avg       0.87      0.78      0.79     72562\n",
            "                          weighted avg       0.97      0.97      0.97     72562\n",
            "\n",
            "Confusion Matrix: \n",
            " [[17917     3     0    11     2    13    18     0   296]\n",
            " [   99  2116     0     0     0     8     0     0    46]\n",
            " [   83     0     4     0     0     0     0     0   143]\n",
            " [   77     0     2  8457     0    12     0     0    76]\n",
            " [    3     0     0     0  1992     0     0     0     7]\n",
            " [  387     1     2    13     0    68    12     0    80]\n",
            " [    1     0     0     0     0     0   492     0     0]\n",
            " [    0     0     0     0     0     0     0  3664     0]\n",
            " [  735     9     0     0     6    31     1     0 35675]]\n"
          ]
        }
      ],
      "source": [
        "y_predict = dt.predict(test_features)\n",
        "print(classification_report(y_val,y_predict))\n",
        "print('Confusion Matrix: \\n',confusion_matrix(y_val, y_predict))"
      ]
    },
    {
      "cell_type": "markdown",
      "metadata": {
        "id": "DuZsNl5sGrIE"
      },
      "source": [
        "## AdaBoost Classifier"
      ]
    },
    {
      "cell_type": "code",
      "execution_count": 28,
      "metadata": {
        "colab": {
          "base_uri": "https://localhost:8080/"
        },
        "id": "xiB_KiKMFB6G",
        "outputId": "3ad677e6-49fd-49b2-ba2c-6c9912b58b95"
      },
      "outputs": [
        {
          "name": "stdout",
          "output_type": "stream",
          "text": [
            "0.6962321876464265\n"
          ]
        }
      ],
      "source": [
        "from sklearn.ensemble import AdaBoostClassifier\n",
        "\n",
        "abc = AdaBoostClassifier(n_estimators=10)\n",
        "abc.fit(train_features, y_train)\n",
        "print(abc.score(test_features, y_val))"
      ]
    },
    {
      "cell_type": "code",
      "execution_count": 29,
      "metadata": {
        "colab": {
          "base_uri": "https://localhost:8080/"
        },
        "id": "WP2LTC1EE8PV",
        "outputId": "aa3557af-51af-49f5-d296-9bc793ae93ac"
      },
      "outputs": [
        {
          "name": "stderr",
          "output_type": "stream",
          "text": [
            "c:\\Users\\Admin\\AppData\\Local\\Programs\\Python\\Python39\\lib\\site-packages\\sklearn\\metrics\\_classification.py:1344: UndefinedMetricWarning: Precision and F-score are ill-defined and being set to 0.0 in labels with no predicted samples. Use `zero_division` parameter to control this behavior.\n",
            "  _warn_prf(average, modifier, msg_start, len(result))\n",
            "c:\\Users\\Admin\\AppData\\Local\\Programs\\Python\\Python39\\lib\\site-packages\\sklearn\\metrics\\_classification.py:1344: UndefinedMetricWarning: Precision and F-score are ill-defined and being set to 0.0 in labels with no predicted samples. Use `zero_division` parameter to control this behavior.\n",
            "  _warn_prf(average, modifier, msg_start, len(result))\n"
          ]
        },
        {
          "name": "stdout",
          "output_type": "stream",
          "text": [
            "                                        precision    recall  f1-score   support\n",
            "\n",
            "                          000 - Normal       0.00      0.00      0.00     18260\n",
            "                  126 - Path Traversal       0.00      0.00      0.00      2269\n",
            "         153 - Input Data Manipulation       0.00      0.00      0.00       230\n",
            "         194 - Fake the Source of Data       1.00      0.98      0.99      8624\n",
            "                  242 - Code Injection       1.00      0.96      0.98      2002\n",
            "           272 - Protocol Manipulation       0.00      0.00      0.00       563\n",
            "310 - Scanning for Vulnerable Software       0.00      0.00      0.00       493\n",
            "          34 - HTTP Response Splitting       1.00      1.00      1.00      3664\n",
            "                    66 - SQL Injection       0.62      1.00      0.77     36457\n",
            "\n",
            "                              accuracy                           0.70     72562\n",
            "                             macro avg       0.40      0.44      0.42     72562\n",
            "                          weighted avg       0.51      0.70      0.58     72562\n",
            "\n",
            "Confusion Matrix: \n",
            " [[    0     0     0     0     2     0     0     0 18258]\n",
            " [    0     0     0     0     0     0     0     0  2269]\n",
            " [    0     0     0     0     0     0     0     0   230]\n",
            " [    0     0     0  8468     0     0     0     0   156]\n",
            " [    0     0     0     0  1931     0     0     0    71]\n",
            " [    0     0     0    30     0     0     0     0   533]\n",
            " [    0     0     0     1     0     0     0     0   492]\n",
            " [    0     0     0     0     0     0     0  3664     0]\n",
            " [    0     0     0     0     0     0     0     0 36457]]\n"
          ]
        },
        {
          "name": "stderr",
          "output_type": "stream",
          "text": [
            "c:\\Users\\Admin\\AppData\\Local\\Programs\\Python\\Python39\\lib\\site-packages\\sklearn\\metrics\\_classification.py:1344: UndefinedMetricWarning: Precision and F-score are ill-defined and being set to 0.0 in labels with no predicted samples. Use `zero_division` parameter to control this behavior.\n",
            "  _warn_prf(average, modifier, msg_start, len(result))\n"
          ]
        }
      ],
      "source": [
        "y_predict = abc.predict(test_features)\n",
        "print(classification_report(y_val,y_predict))\n",
        "print('Confusion Matrix: \\n',confusion_matrix(y_val, y_predict))"
      ]
    },
    {
      "cell_type": "markdown",
      "metadata": {
        "id": "o7uBssUuGtjC"
      },
      "source": [
        "## Logistic Regression Classifier"
      ]
    },
    {
      "cell_type": "code",
      "execution_count": 30,
      "metadata": {
        "id": "QKn3_0LCFTHy"
      },
      "outputs": [
        {
          "name": "stdout",
          "output_type": "stream",
          "text": [
            "0.962321876464265\n"
          ]
        },
        {
          "name": "stderr",
          "output_type": "stream",
          "text": [
            "c:\\Users\\Admin\\AppData\\Local\\Programs\\Python\\Python39\\lib\\site-packages\\sklearn\\linear_model\\_logistic.py:458: ConvergenceWarning: lbfgs failed to converge (status=1):\n",
            "STOP: TOTAL NO. of ITERATIONS REACHED LIMIT.\n",
            "\n",
            "Increase the number of iterations (max_iter) or scale the data as shown in:\n",
            "    https://scikit-learn.org/stable/modules/preprocessing.html\n",
            "Please also refer to the documentation for alternative solver options:\n",
            "    https://scikit-learn.org/stable/modules/linear_model.html#logistic-regression\n",
            "  n_iter_i = _check_optimize_result(\n"
          ]
        }
      ],
      "source": [
        "from sklearn.linear_model import LogisticRegression\n",
        "\n",
        "lr = LogisticRegression()\n",
        "lr.fit(train_features, y_train)\n",
        "print(lr.score(test_features, y_val))"
      ]
    },
    {
      "cell_type": "code",
      "execution_count": 31,
      "metadata": {
        "id": "JggrlpA6FTKs"
      },
      "outputs": [
        {
          "name": "stdout",
          "output_type": "stream",
          "text": [
            "                                        precision    recall  f1-score   support\n",
            "\n",
            "                          000 - Normal       0.91      0.97      0.94     18260\n",
            "                  126 - Path Traversal       1.00      0.93      0.96      2269\n",
            "         153 - Input Data Manipulation       0.26      0.06      0.10       230\n",
            "         194 - Fake the Source of Data       1.00      0.98      0.99      8624\n",
            "                  242 - Code Injection       1.00      0.98      0.99      2002\n",
            "           272 - Protocol Manipulation       0.67      0.01      0.01       563\n",
            "310 - Scanning for Vulnerable Software       0.92      0.99      0.95       493\n",
            "          34 - HTTP Response Splitting       1.00      1.00      1.00      3664\n",
            "                    66 - SQL Injection       0.98      0.97      0.97     36457\n",
            "\n",
            "                              accuracy                           0.96     72562\n",
            "                             macro avg       0.86      0.77      0.77     72562\n",
            "                          weighted avg       0.96      0.96      0.96     72562\n",
            "\n",
            "Confusion Matrix: \n",
            " [[17773     7     1     3     2     0    22     0   452]\n",
            " [  141  2109     1     0     0     0     0     0    18]\n",
            " [   83     0    14     0     0     0     0     0   133]\n",
            " [   72     0    11  8470     0     1     0     0    70]\n",
            " [    4     0     0     0  1956     0     0     0    42]\n",
            " [  436     0     4    31     0     4    12     0    76]\n",
            " [    4     0     0     1     0     0   487     0     1]\n",
            " [    0     0     0     0     0     0     0  3664     0]\n",
            " [ 1066     2    22     0     7     1     8     0 35351]]\n"
          ]
        }
      ],
      "source": [
        "y_predict = lr.predict(test_features)\n",
        "print(classification_report(y_val,y_predict))\n",
        "print('Confusion Matrix: \\n',confusion_matrix(y_val, y_predict))"
      ]
    },
    {
      "cell_type": "markdown",
      "metadata": {
        "id": "sKbQmUrfG4x0"
      },
      "source": [
        "# Word2Vec Feature Extraction"
      ]
    },
    {
      "cell_type": "code",
      "execution_count": 32,
      "metadata": {
        "id": "x3CtKCrfe049"
      },
      "outputs": [],
      "source": [
        "import pandas as pd\n",
        "import numpy as np\n",
        "import string\n",
        "from nltk.corpus import stopwords\n",
        "from nltk.tokenize import word_tokenize\n",
        "from gensim.models import Word2Vec\n",
        "from tensorflow.keras.preprocessing.text import Tokenizer\n",
        "from tensorflow.keras.preprocessing.sequence import pad_sequences\n",
        "from tensorflow.keras.layers import Embedding, Conv1D, MaxPooling1D, Flatten, Dense\n",
        "from tensorflow.keras.models import Sequential\n",
        "from sklearn.model_selection import train_test_split"
      ]
    },
    {
      "cell_type": "code",
      "execution_count": 33,
      "metadata": {
        "id": "SB8pIwzZceO1"
      },
      "outputs": [],
      "source": [
        "X_train, X_test, y_train, y_test = train_test_split(df_train[\"text\"],\n",
        "                                                  df_train[\"label\"],\n",
        "                                                  test_size=0.2,\n",
        "                                                  shuffle=True)"
      ]
    },
    {
      "cell_type": "code",
      "execution_count": 34,
      "metadata": {
        "id": "9vb4yR7ocmAi"
      },
      "outputs": [],
      "source": [
        "from gensim.models import Word2Vec\n",
        "\n",
        "sentences = [sentence.split() for sentence in X_train]\n",
        "w2v_model = Word2Vec(sentences, window=5, min_count=5, workers=4)"
      ]
    },
    {
      "cell_type": "code",
      "execution_count": 35,
      "metadata": {
        "id": "iCj5lFh9c_vm"
      },
      "outputs": [],
      "source": [
        "import numpy as np\n",
        "\n",
        "def vectorize(sentence):\n",
        "    words = sentence.split()\n",
        "    words_vecs = [w2v_model.wv[word] for word in words if word in w2v_model.wv]\n",
        "    if len(words_vecs) == 0:\n",
        "        return np.zeros(100)\n",
        "    words_vecs = np.array(words_vecs)\n",
        "    return words_vecs.mean(axis=0)\n",
        "\n",
        "X_train = np.array([vectorize(sentence) for sentence in X_train])\n",
        "X_test = np.array([vectorize(sentence) for sentence in X_test])"
      ]
    },
    {
      "cell_type": "code",
      "execution_count": 36,
      "metadata": {
        "colab": {
          "base_uri": "https://localhost:8080/"
        },
        "id": "nxQ_KB0CdP7a",
        "outputId": "22a7a38f-fefe-43ac-b4a6-b6a62a146e13"
      },
      "outputs": [
        {
          "name": "stdout",
          "output_type": "stream",
          "text": [
            "0.5744328987624376\n"
          ]
        },
        {
          "name": "stderr",
          "output_type": "stream",
          "text": [
            "c:\\Users\\Admin\\AppData\\Local\\Programs\\Python\\Python39\\lib\\site-packages\\sklearn\\linear_model\\_logistic.py:458: ConvergenceWarning: lbfgs failed to converge (status=1):\n",
            "STOP: TOTAL NO. of ITERATIONS REACHED LIMIT.\n",
            "\n",
            "Increase the number of iterations (max_iter) or scale the data as shown in:\n",
            "    https://scikit-learn.org/stable/modules/preprocessing.html\n",
            "Please also refer to the documentation for alternative solver options:\n",
            "    https://scikit-learn.org/stable/modules/linear_model.html#logistic-regression\n",
            "  n_iter_i = _check_optimize_result(\n"
          ]
        }
      ],
      "source": [
        "from sklearn.linear_model import LogisticRegression\n",
        "\n",
        "clf = LogisticRegression()\n",
        "clf.fit(X_train, y_train)\n",
        "print(clf.score(X_test, y_test))"
      ]
    },
    {
      "cell_type": "code",
      "execution_count": 37,
      "metadata": {
        "colab": {
          "base_uri": "https://localhost:8080/"
        },
        "id": "XXZPJHY5eQDB",
        "outputId": "1e1d0bcf-b8f7-4560-adbc-de9b96af014e"
      },
      "outputs": [
        {
          "name": "stdout",
          "output_type": "stream",
          "text": [
            "                                        precision    recall  f1-score   support\n",
            "\n",
            "                          000 - Normal       0.43      0.45      0.44     18252\n",
            "                  126 - Path Traversal       0.46      0.08      0.14      2229\n",
            "         153 - Input Data Manipulation       0.00      0.00      0.00       231\n",
            "         194 - Fake the Source of Data       0.23      0.02      0.04      8706\n",
            "                  242 - Code Injection       0.22      0.01      0.01      1967\n",
            "           272 - Protocol Manipulation       0.00      0.00      0.00       562\n",
            "310 - Scanning for Vulnerable Software       0.69      0.93      0.79       451\n",
            "          34 - HTTP Response Splitting       0.37      0.10      0.16      3598\n",
            "                    66 - SQL Injection       0.64      0.88      0.74     36566\n",
            "\n",
            "                              accuracy                           0.57     72562\n",
            "                             macro avg       0.34      0.28      0.26     72562\n",
            "                          weighted avg       0.50      0.57      0.51     72562\n",
            "\n",
            "Confusion Matrix: \n",
            " [[ 8149    80     2   300    14     2    46   322  9337]\n",
            " [ 1580   179     0    26     3     0     4     0   437]\n",
            " [   48     0     0    22     0     0     0     0   161]\n",
            " [ 3652    47     0   216     7     1    19   208  4556]\n",
            " [ 1253    41     1    30    11     0    11    47   573]\n",
            " [  135     9     0     9     0     0     7    25   377]\n",
            " [    6     0     0     7     0     1   421     0    16]\n",
            " [  443     0     2    32     0     1    20   370  2730]\n",
            " [ 3796    33     1   285    14     0    83    18 32336]]\n"
          ]
        }
      ],
      "source": [
        "y_predict = clf.predict(X_test)\n",
        "print(classification_report(y_test,y_predict))\n",
        "print('Confusion Matrix: \\n',confusion_matrix(y_test, y_predict))"
      ]
    },
    {
      "cell_type": "code",
      "execution_count": 38,
      "metadata": {
        "id": "ka4tAuFCj-yk"
      },
      "outputs": [],
      "source": [
        "X_train, X_test, y_train, y_test = train_test_split(df_train[\"text\"],\n",
        "                                                  df_train[\"label\"],\n",
        "                                                  test_size=0.2,\n",
        "                                                  shuffle=True)"
      ]
    },
    {
      "cell_type": "code",
      "execution_count": 39,
      "metadata": {
        "id": "C5jAqT9PiQnq"
      },
      "outputs": [],
      "source": [
        "X_train, X_test, y_train, y_test = train_test_split(df_train[\"text\"],\n",
        "                                                  df_train[\"label\"],\n",
        "                                                  test_size=0.2,\n",
        "                                                  shuffle=True)\n",
        "# Tokenize the text data\n",
        "tokenizer = Tokenizer()\n",
        "tokenizer.fit_on_texts(X_train)\n",
        "\n",
        "X_train = tokenizer.texts_to_sequences(X_train)\n",
        "X_test = tokenizer.texts_to_sequences(X_test)\n",
        "\n",
        "vocab_size = len(tokenizer.word_index) + 1\n",
        "\n",
        "# Pad the sequences to a fixed length\n",
        "max_length = 100\n",
        "X_train = pad_sequences(X_train, maxlen=max_length, padding='post')\n",
        "X_test = pad_sequences(X_test, maxlen=max_length, padding='post')"
      ]
    },
    {
      "cell_type": "code",
      "execution_count": 40,
      "metadata": {
        "colab": {
          "base_uri": "https://localhost:8080/"
        },
        "id": "P_nEIM3Ml6NU",
        "outputId": "1df99c1e-ac10-429e-9869-bc86c26754a3"
      },
      "outputs": [
        {
          "name": "stderr",
          "output_type": "stream",
          "text": [
            "[nltk_data] Downloading package punkt to\n",
            "[nltk_data]     C:\\Users\\Admin\\AppData\\Roaming\\nltk_data...\n",
            "[nltk_data]   Package punkt is already up-to-date!\n",
            "[nltk_data] Downloading package stopwords to\n",
            "[nltk_data]     C:\\Users\\Admin\\AppData\\Roaming\\nltk_data...\n",
            "[nltk_data]   Package stopwords is already up-to-date!\n",
            "[nltk_data] Downloading package wordnet to\n",
            "[nltk_data]     C:\\Users\\Admin\\AppData\\Roaming\\nltk_data...\n",
            "[nltk_data]   Package wordnet is already up-to-date!\n"
          ]
        }
      ],
      "source": [
        "## importing all libraries\n",
        "import numpy as np\n",
        "import pandas as pd\n",
        "import seaborn as sns\n",
        "import matplotlib.pyplot as plt\n",
        "import re\n",
        "import nltk\n",
        "nltk.download('punkt')\n",
        "nltk.download('stopwords')\n",
        "nltk.download('wordnet')\n",
        "from sklearn.preprocessing import LabelEncoder\n",
        "from sklearn.model_selection import GridSearchCV\n",
        "from sklearn.model_selection import train_test_split\n",
        "\n",
        "## Case 1 : Would use Word2Vec and then apply different classifiers\n",
        "from gensim.models import Word2Vec  \n",
        "\n",
        "## Case 2 : Would use TfidfVectorizer and then apply different classifiers\n",
        "from sklearn.feature_extraction.text import TfidfVectorizer   \n",
        "\n",
        "## This would help us understand : Does the type of Vectorizing Process influence the precision , accuracy , recall score of the classifiers ??\n",
        "\n",
        "\n",
        "from sklearn.pipeline import Pipeline\n",
        "from sklearn.svm import SVC\n",
        "from sklearn.naive_bayes import GaussianNB\n",
        "from sklearn.naive_bayes import MultinomialNB\n",
        "from sklearn.tree import DecisionTreeClassifier\n",
        "from sklearn.neural_network import MLPClassifier\n",
        "from sklearn.ensemble import GradientBoostingClassifier\n",
        "from sklearn.metrics import precision_score, recall_score, f1_score, accuracy_score\n",
        "import warnings\n",
        "warnings.filterwarnings(\"ignore\")"
      ]
    },
    {
      "cell_type": "code",
      "execution_count": 41,
      "metadata": {
        "colab": {
          "background_save": true,
          "base_uri": "https://localhost:8080/"
        },
        "id": "X3av8NDrlnsR",
        "outputId": "501a58c9-4c57-4015-9ebd-56c365152124"
      },
      "outputs": [
        {
          "name": "stdout",
          "output_type": "stream",
          "text": [
            "Tokenization complete.\n",
            "Naive Bayes :\n",
            "Accuracy: 0.568 \tPrecision: 0.370 \tRecall: 0.630 \t\tF1: 0.397\n",
            "\n",
            "Confusion Matrix: \n",
            " [[ 4659   399   446  2906   896  3106  1796  2302  1815]\n",
            " [   22  1188    22    39   857    54   113     4     1]\n",
            " [    0     0   206    17     0    21     0     0     0]\n",
            " [  547    81   490  5528   360   463   197   895    11]\n",
            " [  102    43    13   153  1550     4     0    26    11]\n",
            " [   81     4    57    28     1   122   278     6     5]\n",
            " [    5     1     0     0     1    22   402     0     0]\n",
            " [  267     2   166   226     1   133     4  2805    27]\n",
            " [ 3484  1134   629  1546   846  1876   669  1666 24725]]\n",
            "Decision Tree :\n",
            "Accuracy: 0.923 \tPrecision: 0.753 \tRecall: 0.746 \t\tF1: 0.749\n",
            "\n",
            "Confusion Matrix: \n",
            " [[16207    85    50   341    65   295    58   111  1113]\n",
            " [   87  2140     6    14     1    18    11     0    23]\n",
            " [   53     3    62    38     0    16     0     0    72]\n",
            " [  367    12    40  7809    38    40    10    20   236]\n",
            " [   76     4     1    59  1720     1     0     4    37]\n",
            " [  357    14    11    28     1   116    17     1    37]\n",
            " [   61    15     0     4     0    19   310     1    21]\n",
            " [  114     0     5    24     5     0     0  3433    50]\n",
            " [  970    10    72   186    42    36     8    52 35199]]\n",
            "Random Forest :\n",
            "Accuracy: 0.947 \tPrecision: 0.820 \tRecall: 0.776 \t\tF1: 0.792\n",
            "\n",
            "Confusion Matrix: \n",
            " [[17214    26    15   122     3   133    20    55   737]\n",
            " [   87  2167     7     1     0     6     6     0    26]\n",
            " [   73     0    67    26     0     4     0     0    74]\n",
            " [  280     0    32  8117     0     6     2     0   135]\n",
            " [   84     1     0    56  1724     0     0     0    37]\n",
            " [  428     0    12    37     0    76     3     0    26]\n",
            " [   43     1     0     4     0     1   382     0     0]\n",
            " [   23     0     0     1     0     0     0  3590    17]\n",
            " [  972     1    58   105     4     6     6    25 35398]]\n",
            "AdaBoost :\n",
            "Accuracy: 0.612 \tPrecision: 0.430 \tRecall: 0.525 \t\tF1: 0.420\n",
            "\n",
            "Confusion Matrix: \n",
            " [[ 8359    83   202  2933   336   127  1160  1140  3985]\n",
            " [  115   978    10    29   741    10    65     4   348]\n",
            " [   18     0   118     0     0     0     0     0   108]\n",
            " [ 1558     4   127  5537   137    13   156   332   708]\n",
            " [  101    39     6   157  1071     0   246    27   255]\n",
            " [  219     2    33    42     0    33   178     2    73]\n",
            " [   34     0     0     2     0     7   347     0    41]\n",
            " [  769     0     3   447     4     0     0  2105   303]\n",
            " [ 4008   188   186  1101   896     5  3470   854 25867]]\n"
          ]
        }
      ],
      "source": [
        "from sklearn.ensemble import AdaBoostClassifier\n",
        "from sklearn.ensemble import RandomForestClassifier\n",
        "# Classification using word2vec vectorizer\n",
        "# Tokenize : dividing Sentences into words\n",
        "df_train['text_clean'] = df_train['text'].apply(nltk.word_tokenize)\n",
        "print('Tokenization complete.')\n",
        "\n",
        "vec_model = Word2Vec(df_train['text_clean'])\n",
        "\n",
        "w2v = dict(zip(vec_model.wv.index_to_key, vec_model.wv.vectors))\n",
        "## What is syn0 ?\n",
        "## https://stackoverflow.com/questions/53301916/python-gensim-what-is-the-meaning-of-syn0-and-syn0norm\n",
        "\n",
        "class Vectorizer(object):\n",
        "    \n",
        "    def __init__(self, vec):\n",
        "        self.vec = vec\n",
        "        self.dim = len(vec.values())\n",
        "\n",
        "    def fit(self, X, y):\n",
        "        return self\n",
        "\n",
        "    def transform(self, X):\n",
        "        return np.array([np.mean([self.vec[w] for w in words if w in self.vec] or [np.zeros(self.dim)], axis=0) for words in X])\n",
        "\n",
        "\n",
        "## for any Classifier , we need intialise the model with the parameters. \n",
        "## Further I am applying GridSearchCV for 5 runs (i.e 1/5th data used each time for testing) \n",
        "## So the model gets trained over 5 runs \n",
        "## as well we are predicting also over 5 runs\n",
        "## In case if you wish to know about Cross Validation , you can watch my Video here : https://www.youtube.com/watch?v=LmxsySwAhoE&t=84s\n",
        "class Classifier(object):\n",
        "    \n",
        "    def __init__(self, model, param):\n",
        "        self.model = model\n",
        "        self.param = param\n",
        "        self.gs = GridSearchCV(self.model, self.param, cv=5, error_score=0, refit=True)        \n",
        "\n",
        "    def fit(self, X, y):        \n",
        "        return self.gs.fit(X, y)\n",
        "\n",
        "    def predict(self, X):\n",
        "        return self.gs.predict(X)\n",
        "    \n",
        "\n",
        "## Preparing to make a pipeline \n",
        "clf_models = {\n",
        "    'Naive Bayes': GaussianNB(), \n",
        "    'Decision Tree': DecisionTreeClassifier(),  \n",
        "    'Random Forest': RandomForestClassifier(),\n",
        "    'AdaBoost': AdaBoostClassifier()\n",
        "}\n",
        "\n",
        "clf_params = {\n",
        "    'Naive Bayes': { }, \n",
        "    'Decision Tree': { 'min_samples_split': [2, 5] }, \n",
        "    'Random Forest': { },\n",
        "    'AdaBoost': {  }\n",
        "}\n",
        "\n",
        "\n",
        "## splitting the dataset into 80:20.  have kept shuffle=True , so that the data is randomly sampled or simply said shuffled , and then split.\n",
        "X_train, X_test, y_train, y_test = train_test_split(df_train['text'], df_train['label'], test_size=0.2, shuffle=True)\n",
        "\n",
        "## for loop traverses , each and every classifier and its corresponding parameters.\n",
        "for key in clf_models.keys():\n",
        "    \n",
        "    clf = Pipeline([('Word2Vec vectorizer', Vectorizer(w2v)), ('Classifier', Classifier(clf_models[key], clf_params[key]))])\n",
        "    \n",
        "    clf.fit(X_train, y_train)  ## Note : we are calling user defined fit method. This fit method uses Cross Validation\n",
        "    y_pred = clf.predict(X_test)  ## Note : we are calling user defined predict method. This predict method uses Cross Validation\n",
        "    \n",
        "    ## printing performance metrics for each classifier \n",
        "    print(key, ':')\n",
        "    print(\"Accuracy: %1.3f \\tPrecision: %1.3f \\tRecall: %1.3f \\t\\tF1: %1.3f\\n\" % (accuracy_score(y_test, y_pred), precision_score(y_test, y_pred, average='macro'), recall_score(y_test, y_pred, average='macro'), f1_score(y_test, y_pred, average='macro')))\n",
        "    print('Confusion Matrix: \\n',confusion_matrix(y_test, y_pred))"
      ]
    }
  ],
  "metadata": {
    "colab": {
      "provenance": []
    },
    "kernelspec": {
      "display_name": "Python 3",
      "name": "python3"
    },
    "language_info": {
      "codemirror_mode": {
        "name": "ipython",
        "version": 3
      },
      "file_extension": ".py",
      "mimetype": "text/x-python",
      "name": "python",
      "nbconvert_exporter": "python",
      "pygments_lexer": "ipython3",
      "version": "3.9.11"
    }
  },
  "nbformat": 4,
  "nbformat_minor": 0
}
